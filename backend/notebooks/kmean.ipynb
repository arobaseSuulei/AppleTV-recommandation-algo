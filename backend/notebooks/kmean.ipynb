{
 "cells": [
  {
   "cell_type": "code",
   "execution_count": 4,
   "id": "2dc30463-97b5-4cf3-bb0d-bcfd546eac5b",
   "metadata": {},
   "outputs": [],
   "source": [
    "import pandas as pd"
   ]
  },
  {
   "cell_type": "code",
   "execution_count": 6,
   "id": "cd3720e3-38be-4915-9698-126693ee28c9",
   "metadata": {},
   "outputs": [],
   "source": [
    "df=pd.read_csv(\"../archive/titles.csv\")"
   ]
  },
  {
   "cell_type": "code",
   "execution_count": 7,
   "id": "094029d5-eaa1-41c4-b936-435915caca00",
   "metadata": {},
   "outputs": [
    {
     "data": {
      "text/html": [
       "<div>\n",
       "<style scoped>\n",
       "    .dataframe tbody tr th:only-of-type {\n",
       "        vertical-align: middle;\n",
       "    }\n",
       "\n",
       "    .dataframe tbody tr th {\n",
       "        vertical-align: top;\n",
       "    }\n",
       "\n",
       "    .dataframe thead th {\n",
       "        text-align: right;\n",
       "    }\n",
       "</style>\n",
       "<table border=\"1\" class=\"dataframe\">\n",
       "  <thead>\n",
       "    <tr style=\"text-align: right;\">\n",
       "      <th></th>\n",
       "      <th>id</th>\n",
       "      <th>title</th>\n",
       "      <th>type</th>\n",
       "      <th>description</th>\n",
       "      <th>release_year</th>\n",
       "      <th>age_certification</th>\n",
       "      <th>runtime</th>\n",
       "      <th>genres</th>\n",
       "      <th>production_countries</th>\n",
       "      <th>seasons</th>\n",
       "      <th>imdb_id</th>\n",
       "      <th>imdb_score</th>\n",
       "      <th>imdb_votes</th>\n",
       "      <th>tmdb_popularity</th>\n",
       "      <th>tmdb_score</th>\n",
       "    </tr>\n",
       "  </thead>\n",
       "  <tbody>\n",
       "    <tr>\n",
       "      <th>0</th>\n",
       "      <td>tm1300</td>\n",
       "      <td>A Charlie Brown Christmas</td>\n",
       "      <td>MOVIE</td>\n",
       "      <td>When Charlie Brown complains about the overwhe...</td>\n",
       "      <td>1965</td>\n",
       "      <td>G</td>\n",
       "      <td>25</td>\n",
       "      <td>['comedy', 'drama', 'family', 'music', 'animat...</td>\n",
       "      <td>['US']</td>\n",
       "      <td>NaN</td>\n",
       "      <td>tt0059026</td>\n",
       "      <td>8.3</td>\n",
       "      <td>40328.0</td>\n",
       "      <td>10.848</td>\n",
       "      <td>7.688</td>\n",
       "    </tr>\n",
       "    <tr>\n",
       "      <th>1</th>\n",
       "      <td>tm71152</td>\n",
       "      <td>It's the Great Pumpkin, Charlie Brown</td>\n",
       "      <td>MOVIE</td>\n",
       "      <td>This classic \"Peanuts\" tale focuses on the thu...</td>\n",
       "      <td>1966</td>\n",
       "      <td>G</td>\n",
       "      <td>25</td>\n",
       "      <td>['animation', 'comedy', 'family']</td>\n",
       "      <td>['US']</td>\n",
       "      <td>NaN</td>\n",
       "      <td>tt0060550</td>\n",
       "      <td>8.2</td>\n",
       "      <td>20299.0</td>\n",
       "      <td>12.458</td>\n",
       "      <td>7.474</td>\n",
       "    </tr>\n",
       "    <tr>\n",
       "      <th>2</th>\n",
       "      <td>tm2562</td>\n",
       "      <td>A Charlie Brown Thanksgiving</td>\n",
       "      <td>MOVIE</td>\n",
       "      <td>Turkey, cranberries, pumpkin pie... and the Pe...</td>\n",
       "      <td>1973</td>\n",
       "      <td>G</td>\n",
       "      <td>25</td>\n",
       "      <td>['family', 'animation', 'comedy']</td>\n",
       "      <td>['US']</td>\n",
       "      <td>NaN</td>\n",
       "      <td>tt0068359</td>\n",
       "      <td>7.7</td>\n",
       "      <td>11406.0</td>\n",
       "      <td>12.591</td>\n",
       "      <td>7.311</td>\n",
       "    </tr>\n",
       "    <tr>\n",
       "      <th>3</th>\n",
       "      <td>tm125274</td>\n",
       "      <td>Be My Valentine, Charlie Brown</td>\n",
       "      <td>MOVIE</td>\n",
       "      <td>It's Valentine's Day again and Charlie Brown d...</td>\n",
       "      <td>1975</td>\n",
       "      <td>G</td>\n",
       "      <td>25</td>\n",
       "      <td>['animation', 'family', 'romance', 'comedy']</td>\n",
       "      <td>['US']</td>\n",
       "      <td>NaN</td>\n",
       "      <td>tt0072687</td>\n",
       "      <td>7.4</td>\n",
       "      <td>2777.0</td>\n",
       "      <td>6.981</td>\n",
       "      <td>7.000</td>\n",
       "    </tr>\n",
       "    <tr>\n",
       "      <th>4</th>\n",
       "      <td>tm106607</td>\n",
       "      <td>It's the Easter Beagle, Charlie Brown</td>\n",
       "      <td>MOVIE</td>\n",
       "      <td>Charlie Brown, Linus and the entire Peanuts ga...</td>\n",
       "      <td>1974</td>\n",
       "      <td>G</td>\n",
       "      <td>25</td>\n",
       "      <td>['family', 'animation', 'comedy']</td>\n",
       "      <td>['US']</td>\n",
       "      <td>NaN</td>\n",
       "      <td>tt0071679</td>\n",
       "      <td>7.5</td>\n",
       "      <td>3001.0</td>\n",
       "      <td>6.172</td>\n",
       "      <td>6.600</td>\n",
       "    </tr>\n",
       "  </tbody>\n",
       "</table>\n",
       "</div>"
      ],
      "text/plain": [
       "         id                                  title   type  \\\n",
       "0    tm1300              A Charlie Brown Christmas  MOVIE   \n",
       "1   tm71152  It's the Great Pumpkin, Charlie Brown  MOVIE   \n",
       "2    tm2562           A Charlie Brown Thanksgiving  MOVIE   \n",
       "3  tm125274         Be My Valentine, Charlie Brown  MOVIE   \n",
       "4  tm106607  It's the Easter Beagle, Charlie Brown  MOVIE   \n",
       "\n",
       "                                         description  release_year  \\\n",
       "0  When Charlie Brown complains about the overwhe...          1965   \n",
       "1  This classic \"Peanuts\" tale focuses on the thu...          1966   \n",
       "2  Turkey, cranberries, pumpkin pie... and the Pe...          1973   \n",
       "3  It's Valentine's Day again and Charlie Brown d...          1975   \n",
       "4  Charlie Brown, Linus and the entire Peanuts ga...          1974   \n",
       "\n",
       "  age_certification  runtime  \\\n",
       "0                 G       25   \n",
       "1                 G       25   \n",
       "2                 G       25   \n",
       "3                 G       25   \n",
       "4                 G       25   \n",
       "\n",
       "                                              genres production_countries  \\\n",
       "0  ['comedy', 'drama', 'family', 'music', 'animat...               ['US']   \n",
       "1                  ['animation', 'comedy', 'family']               ['US']   \n",
       "2                  ['family', 'animation', 'comedy']               ['US']   \n",
       "3       ['animation', 'family', 'romance', 'comedy']               ['US']   \n",
       "4                  ['family', 'animation', 'comedy']               ['US']   \n",
       "\n",
       "   seasons    imdb_id  imdb_score  imdb_votes  tmdb_popularity  tmdb_score  \n",
       "0      NaN  tt0059026         8.3     40328.0           10.848       7.688  \n",
       "1      NaN  tt0060550         8.2     20299.0           12.458       7.474  \n",
       "2      NaN  tt0068359         7.7     11406.0           12.591       7.311  \n",
       "3      NaN  tt0072687         7.4      2777.0            6.981       7.000  \n",
       "4      NaN  tt0071679         7.5      3001.0            6.172       6.600  "
      ]
     },
     "execution_count": 7,
     "metadata": {},
     "output_type": "execute_result"
    }
   ],
   "source": [
    "df.head()"
   ]
  },
  {
   "cell_type": "code",
   "execution_count": 9,
   "id": "5da70419-0fdc-446a-8a47-524550226fd0",
   "metadata": {},
   "outputs": [
    {
     "data": {
      "text/plain": [
       "Index(['id', 'title', 'type', 'description', 'release_year',\n",
       "       'age_certification', 'runtime', 'genres', 'production_countries',\n",
       "       'seasons', 'imdb_id', 'imdb_score', 'imdb_votes', 'tmdb_popularity',\n",
       "       'tmdb_score'],\n",
       "      dtype='object')"
      ]
     },
     "execution_count": 9,
     "metadata": {},
     "output_type": "execute_result"
    }
   ],
   "source": [
    "df.columns"
   ]
  },
  {
   "cell_type": "code",
   "execution_count": 10,
   "id": "f8bdef5c-2115-45fd-9c2d-91bcd87e5741",
   "metadata": {},
   "outputs": [],
   "source": [
    "df[\"seasons\"]=df[\"seasons\"].fillna(\"0\")"
   ]
  },
  {
   "cell_type": "code",
   "execution_count": 22,
   "id": "0059b50d-619c-4547-bed7-7b0d2faaf3c2",
   "metadata": {},
   "outputs": [
    {
     "data": {
      "text/plain": [
       "id                      0\n",
       "title                   0\n",
       "type                    0\n",
       "description             0\n",
       "release_year            0\n",
       "age_certification       0\n",
       "runtime                 0\n",
       "genres                  0\n",
       "production_countries    0\n",
       "seasons                 0\n",
       "imdb_id                 1\n",
       "imdb_score              0\n",
       "imdb_votes              4\n",
       "tmdb_popularity         0\n",
       "tmdb_score              0\n",
       "dtype: int64"
      ]
     },
     "execution_count": 22,
     "metadata": {},
     "output_type": "execute_result"
    }
   ],
   "source": [
    "df.isna().sum()"
   ]
  },
  {
   "cell_type": "code",
   "execution_count": 13,
   "id": "b58a0496-f759-42b7-8731-89bd8e7688b7",
   "metadata": {},
   "outputs": [
    {
     "name": "stdout",
     "output_type": "stream",
     "text": [
      "TV-MA\n"
     ]
    }
   ],
   "source": [
    "#cherchons le mode\n",
    "mode_value = df['age_certification'].mode()[0]\n",
    "print(mode_value)\n",
    "\n",
    "\n",
    "\n"
   ]
  },
  {
   "cell_type": "code",
   "execution_count": 15,
   "id": "680cc672-b9da-494c-9b30-3e4a4433a1fa",
   "metadata": {},
   "outputs": [],
   "source": [
    "df[\"age_certification\"]=df[\"age_certification\"].fillna(mode_value)"
   ]
  },
  {
   "cell_type": "code",
   "execution_count": 17,
   "id": "e216a4f7-05ed-4707-be45-09165efb68ee",
   "metadata": {},
   "outputs": [
    {
     "name": "stdout",
     "output_type": "stream",
     "text": [
      "7.7\n"
     ]
    }
   ],
   "source": [
    "mode_imdbScore = df['imdb_score'].mode()[0]\n",
    "print(mode_imdbScore)"
   ]
  },
  {
   "cell_type": "code",
   "execution_count": 18,
   "id": "1c735260-c905-4006-8e45-52a5d179704d",
   "metadata": {},
   "outputs": [],
   "source": [
    "df[\"imdb_score\"]=df[\"imdb_score\"].fillna(mode_imdbScore)"
   ]
  },
  {
   "cell_type": "code",
   "execution_count": 20,
   "id": "12ed0dbc-5b51-4008-a7e4-3e3cfbcbfcd2",
   "metadata": {},
   "outputs": [
    {
     "name": "stdout",
     "output_type": "stream",
     "text": [
      "7.0\n"
     ]
    }
   ],
   "source": [
    "mode_tmdbScore = df['tmdb_score'].mode()[0]\n",
    "print(mode_tmdbScore)"
   ]
  },
  {
   "cell_type": "code",
   "execution_count": 21,
   "id": "646035ce-8cd4-44d1-969d-44388ed30070",
   "metadata": {},
   "outputs": [],
   "source": [
    "df[\"tmdb_score\"]=df[\"tmdb_score\"].fillna(mode_tmdbScore)"
   ]
  },
  {
   "cell_type": "code",
   "execution_count": 23,
   "id": "24fc0d3b-e6ef-46cb-909f-a785c305cc44",
   "metadata": {},
   "outputs": [
    {
     "data": {
      "text/plain": [
       "Index(['id', 'title', 'type', 'description', 'release_year',\n",
       "       'age_certification', 'runtime', 'genres', 'production_countries',\n",
       "       'seasons', 'imdb_id', 'imdb_score', 'imdb_votes', 'tmdb_popularity',\n",
       "       'tmdb_score'],\n",
       "      dtype='object')"
      ]
     },
     "execution_count": 23,
     "metadata": {},
     "output_type": "execute_result"
    }
   ],
   "source": [
    "df.columns"
   ]
  },
  {
   "cell_type": "code",
   "execution_count": 24,
   "id": "188aab20-1c73-47d8-857e-223bd993bc6f",
   "metadata": {},
   "outputs": [],
   "source": [
    "data=df[[\"release_year\",'runtime', 'genres','seasons','production_countries','age_certification','imdb_score','tmdb_score']]"
   ]
  },
  {
   "cell_type": "code",
   "execution_count": 25,
   "id": "ae862a39-0a46-445e-8828-c3adcfc1ef21",
   "metadata": {},
   "outputs": [
    {
     "data": {
      "text/html": [
       "<div>\n",
       "<style scoped>\n",
       "    .dataframe tbody tr th:only-of-type {\n",
       "        vertical-align: middle;\n",
       "    }\n",
       "\n",
       "    .dataframe tbody tr th {\n",
       "        vertical-align: top;\n",
       "    }\n",
       "\n",
       "    .dataframe thead th {\n",
       "        text-align: right;\n",
       "    }\n",
       "</style>\n",
       "<table border=\"1\" class=\"dataframe\">\n",
       "  <thead>\n",
       "    <tr style=\"text-align: right;\">\n",
       "      <th></th>\n",
       "      <th>release_year</th>\n",
       "      <th>runtime</th>\n",
       "      <th>genres</th>\n",
       "      <th>seasons</th>\n",
       "      <th>production_countries</th>\n",
       "      <th>age_certification</th>\n",
       "      <th>imdb_score</th>\n",
       "      <th>tmdb_score</th>\n",
       "    </tr>\n",
       "  </thead>\n",
       "  <tbody>\n",
       "    <tr>\n",
       "      <th>0</th>\n",
       "      <td>1965</td>\n",
       "      <td>25</td>\n",
       "      <td>['comedy', 'drama', 'family', 'music', 'animat...</td>\n",
       "      <td>0</td>\n",
       "      <td>['US']</td>\n",
       "      <td>G</td>\n",
       "      <td>8.3</td>\n",
       "      <td>7.688</td>\n",
       "    </tr>\n",
       "    <tr>\n",
       "      <th>1</th>\n",
       "      <td>1966</td>\n",
       "      <td>25</td>\n",
       "      <td>['animation', 'comedy', 'family']</td>\n",
       "      <td>0</td>\n",
       "      <td>['US']</td>\n",
       "      <td>G</td>\n",
       "      <td>8.2</td>\n",
       "      <td>7.474</td>\n",
       "    </tr>\n",
       "    <tr>\n",
       "      <th>2</th>\n",
       "      <td>1973</td>\n",
       "      <td>25</td>\n",
       "      <td>['family', 'animation', 'comedy']</td>\n",
       "      <td>0</td>\n",
       "      <td>['US']</td>\n",
       "      <td>G</td>\n",
       "      <td>7.7</td>\n",
       "      <td>7.311</td>\n",
       "    </tr>\n",
       "    <tr>\n",
       "      <th>3</th>\n",
       "      <td>1975</td>\n",
       "      <td>25</td>\n",
       "      <td>['animation', 'family', 'romance', 'comedy']</td>\n",
       "      <td>0</td>\n",
       "      <td>['US']</td>\n",
       "      <td>G</td>\n",
       "      <td>7.4</td>\n",
       "      <td>7.000</td>\n",
       "    </tr>\n",
       "    <tr>\n",
       "      <th>4</th>\n",
       "      <td>1974</td>\n",
       "      <td>25</td>\n",
       "      <td>['family', 'animation', 'comedy']</td>\n",
       "      <td>0</td>\n",
       "      <td>['US']</td>\n",
       "      <td>G</td>\n",
       "      <td>7.5</td>\n",
       "      <td>6.600</td>\n",
       "    </tr>\n",
       "  </tbody>\n",
       "</table>\n",
       "</div>"
      ],
      "text/plain": [
       "   release_year  runtime                                             genres  \\\n",
       "0          1965       25  ['comedy', 'drama', 'family', 'music', 'animat...   \n",
       "1          1966       25                  ['animation', 'comedy', 'family']   \n",
       "2          1973       25                  ['family', 'animation', 'comedy']   \n",
       "3          1975       25       ['animation', 'family', 'romance', 'comedy']   \n",
       "4          1974       25                  ['family', 'animation', 'comedy']   \n",
       "\n",
       "  seasons production_countries age_certification  imdb_score  tmdb_score  \n",
       "0       0               ['US']                 G         8.3       7.688  \n",
       "1       0               ['US']                 G         8.2       7.474  \n",
       "2       0               ['US']                 G         7.7       7.311  \n",
       "3       0               ['US']                 G         7.4       7.000  \n",
       "4       0               ['US']                 G         7.5       6.600  "
      ]
     },
     "execution_count": 25,
     "metadata": {},
     "output_type": "execute_result"
    }
   ],
   "source": [
    "data.head()"
   ]
  },
  {
   "cell_type": "code",
   "execution_count": 26,
   "id": "dcf9292a-d39d-4e24-874b-f1cb35a72ca8",
   "metadata": {},
   "outputs": [
    {
     "data": {
      "text/plain": [
       "release_year            0\n",
       "runtime                 0\n",
       "genres                  0\n",
       "seasons                 0\n",
       "production_countries    0\n",
       "age_certification       0\n",
       "imdb_score              0\n",
       "tmdb_score              0\n",
       "dtype: int64"
      ]
     },
     "execution_count": 26,
     "metadata": {},
     "output_type": "execute_result"
    }
   ],
   "source": [
    "data.isna().sum()"
   ]
  },
  {
   "cell_type": "code",
   "execution_count": null,
   "id": "8e3d5b46-303a-4ccf-bb58-ddcc29cdc14c",
   "metadata": {},
   "outputs": [],
   "source": []
  }
 ],
 "metadata": {
  "kernelspec": {
   "display_name": "Python 3 (ipykernel)",
   "language": "python",
   "name": "python3"
  },
  "language_info": {
   "codemirror_mode": {
    "name": "ipython",
    "version": 3
   },
   "file_extension": ".py",
   "mimetype": "text/x-python",
   "name": "python",
   "nbconvert_exporter": "python",
   "pygments_lexer": "ipython3",
   "version": "3.11.1"
  }
 },
 "nbformat": 4,
 "nbformat_minor": 5
}
