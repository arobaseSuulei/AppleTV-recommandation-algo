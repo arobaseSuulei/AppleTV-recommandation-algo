{
 "cells": [
  {
   "cell_type": "code",
   "execution_count": 2,
   "id": "2dc30463-97b5-4cf3-bb0d-bcfd546eac5b",
   "metadata": {},
   "outputs": [
    {
     "name": "stderr",
     "output_type": "stream",
     "text": [
      "/Users/diallothiernosouleymane/Desktop/AppleTV/backend/venv/lib/python3.11/site-packages/tqdm/auto.py:21: TqdmWarning: IProgress not found. Please update jupyter and ipywidgets. See https://ipywidgets.readthedocs.io/en/stable/user_install.html\n",
      "  from .autonotebook import tqdm as notebook_tqdm\n"
     ]
    },
    {
     "name": "stdout",
     "output_type": "stream",
     "text": [
      "Requirement already satisfied: numpy==1.26.4 in /Users/diallothiernosouleymane/Desktop/AppleTV/backend/venv/lib/python3.11/site-packages (1.26.4)\n",
      "\n",
      "\u001b[1m[\u001b[0m\u001b[34;49mnotice\u001b[0m\u001b[1;39;49m]\u001b[0m\u001b[39;49m A new release of pip available: \u001b[0m\u001b[31;49m22.3.1\u001b[0m\u001b[39;49m -> \u001b[0m\u001b[32;49m25.1.1\u001b[0m\n",
      "\u001b[1m[\u001b[0m\u001b[34;49mnotice\u001b[0m\u001b[1;39;49m]\u001b[0m\u001b[39;49m To update, run: \u001b[0m\u001b[32;49mpip install --upgrade pip\u001b[0m\n"
     ]
    }
   ],
   "source": [
    "import pandas as pd\n",
    "from sentence_transformers import SentenceTransformer\n",
    "!pip install numpy==1.26.4"
   ]
  },
  {
   "cell_type": "code",
   "execution_count": 33,
   "id": "a620d36f-8021-466b-896f-3aa89fcd2dbd",
   "metadata": {},
   "outputs": [],
   "source": [
    "import numpy as np\n",
    "from sklearn.cluster import KMeans"
   ]
  },
  {
   "cell_type": "code",
   "execution_count": 3,
   "id": "5e00dc9c-12eb-4cf3-9c47-c5870326f407",
   "metadata": {
    "scrolled": true
   },
   "outputs": [
    {
     "name": "stdout",
     "output_type": "stream",
     "text": [
      "Requirement already satisfied: sentence-transformers in /Users/diallothiernosouleymane/Desktop/AppleTV/backend/venv/lib/python3.11/site-packages (5.0.0)\n",
      "Requirement already satisfied: transformers<5.0.0,>=4.41.0 in /Users/diallothiernosouleymane/Desktop/AppleTV/backend/venv/lib/python3.11/site-packages (from sentence-transformers) (4.53.1)\n",
      "Requirement already satisfied: tqdm in /Users/diallothiernosouleymane/Desktop/AppleTV/backend/venv/lib/python3.11/site-packages (from sentence-transformers) (4.67.1)\n",
      "Requirement already satisfied: torch>=1.11.0 in /Users/diallothiernosouleymane/Desktop/AppleTV/backend/venv/lib/python3.11/site-packages (from sentence-transformers) (2.2.2)\n",
      "Requirement already satisfied: scikit-learn in /Users/diallothiernosouleymane/Desktop/AppleTV/backend/venv/lib/python3.11/site-packages (from sentence-transformers) (1.7.0)\n",
      "Requirement already satisfied: scipy in /Users/diallothiernosouleymane/Desktop/AppleTV/backend/venv/lib/python3.11/site-packages (from sentence-transformers) (1.16.0)\n",
      "Requirement already satisfied: huggingface-hub>=0.20.0 in /Users/diallothiernosouleymane/Desktop/AppleTV/backend/venv/lib/python3.11/site-packages (from sentence-transformers) (0.33.2)\n",
      "Requirement already satisfied: Pillow in /Users/diallothiernosouleymane/Desktop/AppleTV/backend/venv/lib/python3.11/site-packages (from sentence-transformers) (11.3.0)\n",
      "Requirement already satisfied: typing_extensions>=4.5.0 in /Users/diallothiernosouleymane/Desktop/AppleTV/backend/venv/lib/python3.11/site-packages (from sentence-transformers) (4.14.1)\n",
      "Requirement already satisfied: filelock in /Users/diallothiernosouleymane/Desktop/AppleTV/backend/venv/lib/python3.11/site-packages (from huggingface-hub>=0.20.0->sentence-transformers) (3.18.0)\n",
      "Requirement already satisfied: fsspec>=2023.5.0 in /Users/diallothiernosouleymane/Desktop/AppleTV/backend/venv/lib/python3.11/site-packages (from huggingface-hub>=0.20.0->sentence-transformers) (2025.5.1)\n",
      "Requirement already satisfied: packaging>=20.9 in /Users/diallothiernosouleymane/Desktop/AppleTV/backend/venv/lib/python3.11/site-packages (from huggingface-hub>=0.20.0->sentence-transformers) (25.0)\n",
      "Requirement already satisfied: pyyaml>=5.1 in /Users/diallothiernosouleymane/Desktop/AppleTV/backend/venv/lib/python3.11/site-packages (from huggingface-hub>=0.20.0->sentence-transformers) (6.0.2)\n",
      "Requirement already satisfied: requests in /Users/diallothiernosouleymane/Desktop/AppleTV/backend/venv/lib/python3.11/site-packages (from huggingface-hub>=0.20.0->sentence-transformers) (2.32.4)\n",
      "Requirement already satisfied: hf-xet<2.0.0,>=1.1.2 in /Users/diallothiernosouleymane/Desktop/AppleTV/backend/venv/lib/python3.11/site-packages (from huggingface-hub>=0.20.0->sentence-transformers) (1.1.5)\n",
      "Requirement already satisfied: sympy in /Users/diallothiernosouleymane/Desktop/AppleTV/backend/venv/lib/python3.11/site-packages (from torch>=1.11.0->sentence-transformers) (1.14.0)\n",
      "Requirement already satisfied: networkx in /Users/diallothiernosouleymane/Desktop/AppleTV/backend/venv/lib/python3.11/site-packages (from torch>=1.11.0->sentence-transformers) (3.5)\n",
      "Requirement already satisfied: jinja2 in /Users/diallothiernosouleymane/Desktop/AppleTV/backend/venv/lib/python3.11/site-packages (from torch>=1.11.0->sentence-transformers) (3.1.6)\n",
      "Requirement already satisfied: numpy>=1.17 in /Users/diallothiernosouleymane/Desktop/AppleTV/backend/venv/lib/python3.11/site-packages (from transformers<5.0.0,>=4.41.0->sentence-transformers) (1.26.4)\n",
      "Requirement already satisfied: regex!=2019.12.17 in /Users/diallothiernosouleymane/Desktop/AppleTV/backend/venv/lib/python3.11/site-packages (from transformers<5.0.0,>=4.41.0->sentence-transformers) (2024.11.6)\n",
      "Requirement already satisfied: tokenizers<0.22,>=0.21 in /Users/diallothiernosouleymane/Desktop/AppleTV/backend/venv/lib/python3.11/site-packages (from transformers<5.0.0,>=4.41.0->sentence-transformers) (0.21.2)\n",
      "Requirement already satisfied: safetensors>=0.4.3 in /Users/diallothiernosouleymane/Desktop/AppleTV/backend/venv/lib/python3.11/site-packages (from transformers<5.0.0,>=4.41.0->sentence-transformers) (0.5.3)\n",
      "Requirement already satisfied: joblib>=1.2.0 in /Users/diallothiernosouleymane/Desktop/AppleTV/backend/venv/lib/python3.11/site-packages (from scikit-learn->sentence-transformers) (1.5.1)\n",
      "Requirement already satisfied: threadpoolctl>=3.1.0 in /Users/diallothiernosouleymane/Desktop/AppleTV/backend/venv/lib/python3.11/site-packages (from scikit-learn->sentence-transformers) (3.6.0)\n",
      "Requirement already satisfied: MarkupSafe>=2.0 in /Users/diallothiernosouleymane/Desktop/AppleTV/backend/venv/lib/python3.11/site-packages (from jinja2->torch>=1.11.0->sentence-transformers) (3.0.2)\n",
      "Requirement already satisfied: charset_normalizer<4,>=2 in /Users/diallothiernosouleymane/Desktop/AppleTV/backend/venv/lib/python3.11/site-packages (from requests->huggingface-hub>=0.20.0->sentence-transformers) (3.4.2)\n",
      "Requirement already satisfied: idna<4,>=2.5 in /Users/diallothiernosouleymane/Desktop/AppleTV/backend/venv/lib/python3.11/site-packages (from requests->huggingface-hub>=0.20.0->sentence-transformers) (3.10)\n",
      "Requirement already satisfied: urllib3<3,>=1.21.1 in /Users/diallothiernosouleymane/Desktop/AppleTV/backend/venv/lib/python3.11/site-packages (from requests->huggingface-hub>=0.20.0->sentence-transformers) (2.5.0)\n",
      "Requirement already satisfied: certifi>=2017.4.17 in /Users/diallothiernosouleymane/Desktop/AppleTV/backend/venv/lib/python3.11/site-packages (from requests->huggingface-hub>=0.20.0->sentence-transformers) (2025.6.15)\n",
      "Requirement already satisfied: mpmath<1.4,>=1.1.0 in /Users/diallothiernosouleymane/Desktop/AppleTV/backend/venv/lib/python3.11/site-packages (from sympy->torch>=1.11.0->sentence-transformers) (1.3.0)\n",
      "\n",
      "\u001b[1m[\u001b[0m\u001b[34;49mnotice\u001b[0m\u001b[1;39;49m]\u001b[0m\u001b[39;49m A new release of pip available: \u001b[0m\u001b[31;49m22.3.1\u001b[0m\u001b[39;49m -> \u001b[0m\u001b[32;49m25.1.1\u001b[0m\n",
      "\u001b[1m[\u001b[0m\u001b[34;49mnotice\u001b[0m\u001b[1;39;49m]\u001b[0m\u001b[39;49m To update, run: \u001b[0m\u001b[32;49mpip install --upgrade pip\u001b[0m\n"
     ]
    }
   ],
   "source": [
    "!pip install sentence-transformers"
   ]
  },
  {
   "cell_type": "code",
   "execution_count": 4,
   "id": "cd3720e3-38be-4915-9698-126693ee28c9",
   "metadata": {},
   "outputs": [],
   "source": [
    "df=pd.read_csv(\"../archive/titles.csv\")"
   ]
  },
  {
   "cell_type": "code",
   "execution_count": null,
   "id": "307cdf86-adb0-43c6-8fb4-9259afbb8ae1",
   "metadata": {},
   "outputs": [],
   "source": []
  },
  {
   "cell_type": "code",
   "execution_count": 5,
   "id": "094029d5-eaa1-41c4-b936-435915caca00",
   "metadata": {},
   "outputs": [
    {
     "data": {
      "text/html": [
       "<div>\n",
       "<style scoped>\n",
       "    .dataframe tbody tr th:only-of-type {\n",
       "        vertical-align: middle;\n",
       "    }\n",
       "\n",
       "    .dataframe tbody tr th {\n",
       "        vertical-align: top;\n",
       "    }\n",
       "\n",
       "    .dataframe thead th {\n",
       "        text-align: right;\n",
       "    }\n",
       "</style>\n",
       "<table border=\"1\" class=\"dataframe\">\n",
       "  <thead>\n",
       "    <tr style=\"text-align: right;\">\n",
       "      <th></th>\n",
       "      <th>id</th>\n",
       "      <th>title</th>\n",
       "      <th>type</th>\n",
       "      <th>description</th>\n",
       "      <th>release_year</th>\n",
       "      <th>age_certification</th>\n",
       "      <th>runtime</th>\n",
       "      <th>genres</th>\n",
       "      <th>production_countries</th>\n",
       "      <th>seasons</th>\n",
       "      <th>imdb_id</th>\n",
       "      <th>imdb_score</th>\n",
       "      <th>imdb_votes</th>\n",
       "      <th>tmdb_popularity</th>\n",
       "      <th>tmdb_score</th>\n",
       "    </tr>\n",
       "  </thead>\n",
       "  <tbody>\n",
       "    <tr>\n",
       "      <th>0</th>\n",
       "      <td>tm1300</td>\n",
       "      <td>A Charlie Brown Christmas</td>\n",
       "      <td>MOVIE</td>\n",
       "      <td>When Charlie Brown complains about the overwhe...</td>\n",
       "      <td>1965</td>\n",
       "      <td>G</td>\n",
       "      <td>25</td>\n",
       "      <td>['comedy', 'drama', 'family', 'music', 'animat...</td>\n",
       "      <td>['US']</td>\n",
       "      <td>NaN</td>\n",
       "      <td>tt0059026</td>\n",
       "      <td>8.3</td>\n",
       "      <td>40328.0</td>\n",
       "      <td>10.848</td>\n",
       "      <td>7.688</td>\n",
       "    </tr>\n",
       "    <tr>\n",
       "      <th>1</th>\n",
       "      <td>tm71152</td>\n",
       "      <td>It's the Great Pumpkin, Charlie Brown</td>\n",
       "      <td>MOVIE</td>\n",
       "      <td>This classic \"Peanuts\" tale focuses on the thu...</td>\n",
       "      <td>1966</td>\n",
       "      <td>G</td>\n",
       "      <td>25</td>\n",
       "      <td>['animation', 'comedy', 'family']</td>\n",
       "      <td>['US']</td>\n",
       "      <td>NaN</td>\n",
       "      <td>tt0060550</td>\n",
       "      <td>8.2</td>\n",
       "      <td>20299.0</td>\n",
       "      <td>12.458</td>\n",
       "      <td>7.474</td>\n",
       "    </tr>\n",
       "    <tr>\n",
       "      <th>2</th>\n",
       "      <td>tm2562</td>\n",
       "      <td>A Charlie Brown Thanksgiving</td>\n",
       "      <td>MOVIE</td>\n",
       "      <td>Turkey, cranberries, pumpkin pie... and the Pe...</td>\n",
       "      <td>1973</td>\n",
       "      <td>G</td>\n",
       "      <td>25</td>\n",
       "      <td>['family', 'animation', 'comedy']</td>\n",
       "      <td>['US']</td>\n",
       "      <td>NaN</td>\n",
       "      <td>tt0068359</td>\n",
       "      <td>7.7</td>\n",
       "      <td>11406.0</td>\n",
       "      <td>12.591</td>\n",
       "      <td>7.311</td>\n",
       "    </tr>\n",
       "    <tr>\n",
       "      <th>3</th>\n",
       "      <td>tm125274</td>\n",
       "      <td>Be My Valentine, Charlie Brown</td>\n",
       "      <td>MOVIE</td>\n",
       "      <td>It's Valentine's Day again and Charlie Brown d...</td>\n",
       "      <td>1975</td>\n",
       "      <td>G</td>\n",
       "      <td>25</td>\n",
       "      <td>['animation', 'family', 'romance', 'comedy']</td>\n",
       "      <td>['US']</td>\n",
       "      <td>NaN</td>\n",
       "      <td>tt0072687</td>\n",
       "      <td>7.4</td>\n",
       "      <td>2777.0</td>\n",
       "      <td>6.981</td>\n",
       "      <td>7.000</td>\n",
       "    </tr>\n",
       "    <tr>\n",
       "      <th>4</th>\n",
       "      <td>tm106607</td>\n",
       "      <td>It's the Easter Beagle, Charlie Brown</td>\n",
       "      <td>MOVIE</td>\n",
       "      <td>Charlie Brown, Linus and the entire Peanuts ga...</td>\n",
       "      <td>1974</td>\n",
       "      <td>G</td>\n",
       "      <td>25</td>\n",
       "      <td>['family', 'animation', 'comedy']</td>\n",
       "      <td>['US']</td>\n",
       "      <td>NaN</td>\n",
       "      <td>tt0071679</td>\n",
       "      <td>7.5</td>\n",
       "      <td>3001.0</td>\n",
       "      <td>6.172</td>\n",
       "      <td>6.600</td>\n",
       "    </tr>\n",
       "  </tbody>\n",
       "</table>\n",
       "</div>"
      ],
      "text/plain": [
       "         id                                  title   type  \\\n",
       "0    tm1300              A Charlie Brown Christmas  MOVIE   \n",
       "1   tm71152  It's the Great Pumpkin, Charlie Brown  MOVIE   \n",
       "2    tm2562           A Charlie Brown Thanksgiving  MOVIE   \n",
       "3  tm125274         Be My Valentine, Charlie Brown  MOVIE   \n",
       "4  tm106607  It's the Easter Beagle, Charlie Brown  MOVIE   \n",
       "\n",
       "                                         description  release_year  \\\n",
       "0  When Charlie Brown complains about the overwhe...          1965   \n",
       "1  This classic \"Peanuts\" tale focuses on the thu...          1966   \n",
       "2  Turkey, cranberries, pumpkin pie... and the Pe...          1973   \n",
       "3  It's Valentine's Day again and Charlie Brown d...          1975   \n",
       "4  Charlie Brown, Linus and the entire Peanuts ga...          1974   \n",
       "\n",
       "  age_certification  runtime  \\\n",
       "0                 G       25   \n",
       "1                 G       25   \n",
       "2                 G       25   \n",
       "3                 G       25   \n",
       "4                 G       25   \n",
       "\n",
       "                                              genres production_countries  \\\n",
       "0  ['comedy', 'drama', 'family', 'music', 'animat...               ['US']   \n",
       "1                  ['animation', 'comedy', 'family']               ['US']   \n",
       "2                  ['family', 'animation', 'comedy']               ['US']   \n",
       "3       ['animation', 'family', 'romance', 'comedy']               ['US']   \n",
       "4                  ['family', 'animation', 'comedy']               ['US']   \n",
       "\n",
       "   seasons    imdb_id  imdb_score  imdb_votes  tmdb_popularity  tmdb_score  \n",
       "0      NaN  tt0059026         8.3     40328.0           10.848       7.688  \n",
       "1      NaN  tt0060550         8.2     20299.0           12.458       7.474  \n",
       "2      NaN  tt0068359         7.7     11406.0           12.591       7.311  \n",
       "3      NaN  tt0072687         7.4      2777.0            6.981       7.000  \n",
       "4      NaN  tt0071679         7.5      3001.0            6.172       6.600  "
      ]
     },
     "execution_count": 5,
     "metadata": {},
     "output_type": "execute_result"
    }
   ],
   "source": [
    "df.head()"
   ]
  },
  {
   "cell_type": "code",
   "execution_count": 6,
   "id": "5da70419-0fdc-446a-8a47-524550226fd0",
   "metadata": {},
   "outputs": [
    {
     "data": {
      "text/plain": [
       "Index(['id', 'title', 'type', 'description', 'release_year',\n",
       "       'age_certification', 'runtime', 'genres', 'production_countries',\n",
       "       'seasons', 'imdb_id', 'imdb_score', 'imdb_votes', 'tmdb_popularity',\n",
       "       'tmdb_score'],\n",
       "      dtype='object')"
      ]
     },
     "execution_count": 6,
     "metadata": {},
     "output_type": "execute_result"
    }
   ],
   "source": [
    "df.columns"
   ]
  },
  {
   "cell_type": "code",
   "execution_count": 7,
   "id": "f8bdef5c-2115-45fd-9c2d-91bcd87e5741",
   "metadata": {},
   "outputs": [],
   "source": [
    "df[\"seasons\"]=df[\"seasons\"].fillna(\"0\")"
   ]
  },
  {
   "cell_type": "code",
   "execution_count": 8,
   "id": "0059b50d-619c-4547-bed7-7b0d2faaf3c2",
   "metadata": {},
   "outputs": [
    {
     "data": {
      "text/plain": [
       "id                       0\n",
       "title                    0\n",
       "type                     0\n",
       "description              0\n",
       "release_year             0\n",
       "age_certification       11\n",
       "runtime                  0\n",
       "genres                   0\n",
       "production_countries     0\n",
       "seasons                  0\n",
       "imdb_id                  1\n",
       "imdb_score               3\n",
       "imdb_votes               4\n",
       "tmdb_popularity          0\n",
       "tmdb_score               3\n",
       "dtype: int64"
      ]
     },
     "execution_count": 8,
     "metadata": {},
     "output_type": "execute_result"
    }
   ],
   "source": [
    "df.isna().sum()"
   ]
  },
  {
   "cell_type": "code",
   "execution_count": 9,
   "id": "b58a0496-f759-42b7-8731-89bd8e7688b7",
   "metadata": {},
   "outputs": [
    {
     "name": "stdout",
     "output_type": "stream",
     "text": [
      "TV-MA\n"
     ]
    }
   ],
   "source": [
    "#cherchons le mode\n",
    "mode_value = df['age_certification'].mode()[0]\n",
    "print(mode_value)\n",
    "\n",
    "\n",
    "\n"
   ]
  },
  {
   "cell_type": "code",
   "execution_count": 10,
   "id": "680cc672-b9da-494c-9b30-3e4a4433a1fa",
   "metadata": {},
   "outputs": [],
   "source": [
    "df[\"age_certification\"]=df[\"age_certification\"].fillna(mode_value)"
   ]
  },
  {
   "cell_type": "code",
   "execution_count": 11,
   "id": "e216a4f7-05ed-4707-be45-09165efb68ee",
   "metadata": {},
   "outputs": [
    {
     "name": "stdout",
     "output_type": "stream",
     "text": [
      "7.7\n"
     ]
    }
   ],
   "source": [
    "mode_imdbScore = df['imdb_score'].mode()[0]\n",
    "print(mode_imdbScore)"
   ]
  },
  {
   "cell_type": "code",
   "execution_count": 12,
   "id": "1c735260-c905-4006-8e45-52a5d179704d",
   "metadata": {},
   "outputs": [],
   "source": [
    "df[\"imdb_score\"]=df[\"imdb_score\"].fillna(mode_imdbScore)"
   ]
  },
  {
   "cell_type": "code",
   "execution_count": 13,
   "id": "12ed0dbc-5b51-4008-a7e4-3e3cfbcbfcd2",
   "metadata": {},
   "outputs": [
    {
     "name": "stdout",
     "output_type": "stream",
     "text": [
      "7.0\n"
     ]
    }
   ],
   "source": [
    "mode_tmdbScore = df['tmdb_score'].mode()[0]\n",
    "print(mode_tmdbScore)"
   ]
  },
  {
   "cell_type": "code",
   "execution_count": 14,
   "id": "646035ce-8cd4-44d1-969d-44388ed30070",
   "metadata": {},
   "outputs": [],
   "source": [
    "df[\"tmdb_score\"]=df[\"tmdb_score\"].fillna(mode_tmdbScore)"
   ]
  },
  {
   "cell_type": "code",
   "execution_count": 15,
   "id": "24fc0d3b-e6ef-46cb-909f-a785c305cc44",
   "metadata": {},
   "outputs": [
    {
     "data": {
      "text/plain": [
       "Index(['id', 'title', 'type', 'description', 'release_year',\n",
       "       'age_certification', 'runtime', 'genres', 'production_countries',\n",
       "       'seasons', 'imdb_id', 'imdb_score', 'imdb_votes', 'tmdb_popularity',\n",
       "       'tmdb_score'],\n",
       "      dtype='object')"
      ]
     },
     "execution_count": 15,
     "metadata": {},
     "output_type": "execute_result"
    }
   ],
   "source": [
    "df.columns"
   ]
  },
  {
   "cell_type": "code",
   "execution_count": 16,
   "id": "188aab20-1c73-47d8-857e-223bd993bc6f",
   "metadata": {},
   "outputs": [],
   "source": [
    "data=df[[\"release_year\",'runtime', 'genres','seasons','production_countries','age_certification','imdb_score','tmdb_score']]"
   ]
  },
  {
   "cell_type": "code",
   "execution_count": 17,
   "id": "ae862a39-0a46-445e-8828-c3adcfc1ef21",
   "metadata": {},
   "outputs": [
    {
     "data": {
      "text/html": [
       "<div>\n",
       "<style scoped>\n",
       "    .dataframe tbody tr th:only-of-type {\n",
       "        vertical-align: middle;\n",
       "    }\n",
       "\n",
       "    .dataframe tbody tr th {\n",
       "        vertical-align: top;\n",
       "    }\n",
       "\n",
       "    .dataframe thead th {\n",
       "        text-align: right;\n",
       "    }\n",
       "</style>\n",
       "<table border=\"1\" class=\"dataframe\">\n",
       "  <thead>\n",
       "    <tr style=\"text-align: right;\">\n",
       "      <th></th>\n",
       "      <th>release_year</th>\n",
       "      <th>runtime</th>\n",
       "      <th>genres</th>\n",
       "      <th>seasons</th>\n",
       "      <th>production_countries</th>\n",
       "      <th>age_certification</th>\n",
       "      <th>imdb_score</th>\n",
       "      <th>tmdb_score</th>\n",
       "    </tr>\n",
       "  </thead>\n",
       "  <tbody>\n",
       "    <tr>\n",
       "      <th>0</th>\n",
       "      <td>1965</td>\n",
       "      <td>25</td>\n",
       "      <td>['comedy', 'drama', 'family', 'music', 'animat...</td>\n",
       "      <td>0</td>\n",
       "      <td>['US']</td>\n",
       "      <td>G</td>\n",
       "      <td>8.3</td>\n",
       "      <td>7.688</td>\n",
       "    </tr>\n",
       "    <tr>\n",
       "      <th>1</th>\n",
       "      <td>1966</td>\n",
       "      <td>25</td>\n",
       "      <td>['animation', 'comedy', 'family']</td>\n",
       "      <td>0</td>\n",
       "      <td>['US']</td>\n",
       "      <td>G</td>\n",
       "      <td>8.2</td>\n",
       "      <td>7.474</td>\n",
       "    </tr>\n",
       "    <tr>\n",
       "      <th>2</th>\n",
       "      <td>1973</td>\n",
       "      <td>25</td>\n",
       "      <td>['family', 'animation', 'comedy']</td>\n",
       "      <td>0</td>\n",
       "      <td>['US']</td>\n",
       "      <td>G</td>\n",
       "      <td>7.7</td>\n",
       "      <td>7.311</td>\n",
       "    </tr>\n",
       "    <tr>\n",
       "      <th>3</th>\n",
       "      <td>1975</td>\n",
       "      <td>25</td>\n",
       "      <td>['animation', 'family', 'romance', 'comedy']</td>\n",
       "      <td>0</td>\n",
       "      <td>['US']</td>\n",
       "      <td>G</td>\n",
       "      <td>7.4</td>\n",
       "      <td>7.000</td>\n",
       "    </tr>\n",
       "    <tr>\n",
       "      <th>4</th>\n",
       "      <td>1974</td>\n",
       "      <td>25</td>\n",
       "      <td>['family', 'animation', 'comedy']</td>\n",
       "      <td>0</td>\n",
       "      <td>['US']</td>\n",
       "      <td>G</td>\n",
       "      <td>7.5</td>\n",
       "      <td>6.600</td>\n",
       "    </tr>\n",
       "  </tbody>\n",
       "</table>\n",
       "</div>"
      ],
      "text/plain": [
       "   release_year  runtime                                             genres  \\\n",
       "0          1965       25  ['comedy', 'drama', 'family', 'music', 'animat...   \n",
       "1          1966       25                  ['animation', 'comedy', 'family']   \n",
       "2          1973       25                  ['family', 'animation', 'comedy']   \n",
       "3          1975       25       ['animation', 'family', 'romance', 'comedy']   \n",
       "4          1974       25                  ['family', 'animation', 'comedy']   \n",
       "\n",
       "  seasons production_countries age_certification  imdb_score  tmdb_score  \n",
       "0       0               ['US']                 G         8.3       7.688  \n",
       "1       0               ['US']                 G         8.2       7.474  \n",
       "2       0               ['US']                 G         7.7       7.311  \n",
       "3       0               ['US']                 G         7.4       7.000  \n",
       "4       0               ['US']                 G         7.5       6.600  "
      ]
     },
     "execution_count": 17,
     "metadata": {},
     "output_type": "execute_result"
    }
   ],
   "source": [
    "data.head()"
   ]
  },
  {
   "cell_type": "code",
   "execution_count": 18,
   "id": "8e3d5b46-303a-4ccf-bb58-ddcc29cdc14c",
   "metadata": {},
   "outputs": [
    {
     "data": {
      "text/plain": [
       "release_year            0\n",
       "runtime                 0\n",
       "genres                  0\n",
       "seasons                 0\n",
       "production_countries    0\n",
       "age_certification       0\n",
       "imdb_score              0\n",
       "tmdb_score              0\n",
       "dtype: int64"
      ]
     },
     "execution_count": 18,
     "metadata": {},
     "output_type": "execute_result"
    }
   ],
   "source": [
    "data.isna().sum()"
   ]
  },
  {
   "cell_type": "code",
   "execution_count": 19,
   "id": "88279a77-4425-466c-af22-0cf3da0dea83",
   "metadata": {},
   "outputs": [],
   "source": [
    "data_two=data"
   ]
  },
  {
   "cell_type": "code",
   "execution_count": 20,
   "id": "42af5c13-73b7-4aac-9217-65699c753c32",
   "metadata": {},
   "outputs": [],
   "source": [
    "# 1. Load a pretrained Sentence Transformer model\n",
    "model = SentenceTransformer(\"all-MiniLM-L6-v2\")\n"
   ]
  },
  {
   "cell_type": "code",
   "execution_count": 21,
   "id": "16dd7448-ac51-4e6e-9aba-7fb100570575",
   "metadata": {},
   "outputs": [
    {
     "data": {
      "text/plain": [
       "release_year            0\n",
       "runtime                 0\n",
       "genres                  0\n",
       "seasons                 0\n",
       "production_countries    0\n",
       "age_certification       0\n",
       "imdb_score              0\n",
       "tmdb_score              0\n",
       "dtype: int64"
      ]
     },
     "execution_count": 21,
     "metadata": {},
     "output_type": "execute_result"
    }
   ],
   "source": [
    "data.isna().sum()"
   ]
  },
  {
   "cell_type": "code",
   "execution_count": 22,
   "id": "4acc17f0-2938-4b17-a9e4-58a0f8da0fb0",
   "metadata": {},
   "outputs": [],
   "source": [
    "#concaténer les champs\n",
    "df[\"text\"]=data[\"genres\"]+\"\"+data[\"production_countries\"]+\"\"+data[\"age_certification\"]"
   ]
  },
  {
   "cell_type": "code",
   "execution_count": 23,
   "id": "6260c3b7-75e6-4abe-b202-2a3a997332e7",
   "metadata": {},
   "outputs": [],
   "source": [
    "\n",
    "model = SentenceTransformer('all-MiniLM-L6-v2')"
   ]
  },
  {
   "cell_type": "code",
   "execution_count": 24,
   "id": "edba3072-9bd9-42cb-842a-793ba1badb26",
   "metadata": {},
   "outputs": [
    {
     "name": "stderr",
     "output_type": "stream",
     "text": [
      "Batches: 100%|████████████████████████████████████████████████████████████████████████████████████████████████| 6/6 [00:02<00:00,  2.76it/s]\n"
     ]
    }
   ],
   "source": [
    "embeddings = model.encode(df['text'].tolist(), show_progress_bar=True)"
   ]
  },
  {
   "cell_type": "code",
   "execution_count": 27,
   "id": "de82370d-c09e-4af5-bcd8-e493a16772e0",
   "metadata": {},
   "outputs": [],
   "source": [
    "X_num = data[[\"release_year\", \"runtime\", \"seasons\", \"imdb_score\", \"tmdb_score\"]].values"
   ]
  },
  {
   "cell_type": "code",
   "execution_count": 32,
   "id": "f13be8b3-1177-4f00-a235-b8bb4c8e86d4",
   "metadata": {},
   "outputs": [],
   "source": [
    "# Fusion horizontale (concatène les deux matrices)\n",
    "X = np.hstack([X_num, embeddings])"
   ]
  },
  {
   "cell_type": "code",
   "execution_count": 34,
   "id": "f6265fb6-bda2-4e7b-bb39-69f1cfdab796",
   "metadata": {},
   "outputs": [
    {
     "name": "stderr",
     "output_type": "stream",
     "text": [
      "huggingface/tokenizers: The current process just got forked, after parallelism has already been used. Disabling parallelism to avoid deadlocks...\n",
      "To disable this warning, you can either:\n",
      "\t- Avoid using `tokenizers` before the fork if possible\n",
      "\t- Explicitly set the environment variable TOKENIZERS_PARALLELISM=(true | false)\n",
      "/Users/diallothiernosouleymane/Desktop/AppleTV/backend/venv/lib/python3.11/site-packages/threadpoolctl.py:1226: RuntimeWarning: \n",
      "Found Intel OpenMP ('libiomp') and LLVM OpenMP ('libomp') loaded at\n",
      "the same time. Both libraries are known to be incompatible and this\n",
      "can cause random crashes or deadlocks on Linux when loaded in the\n",
      "same Python program.\n",
      "Using threadpoolctl may cause crashes or deadlocks. For more\n",
      "information and possible workarounds, please see\n",
      "    https://github.com/joblib/threadpoolctl/blob/master/multiple_openmp.md\n",
      "\n",
      "  warnings.warn(msg, RuntimeWarning)\n"
     ]
    }
   ],
   "source": [
    "kmeans=KMeans(n_clusters=5,random_state=42)\n",
    "labels=kmeans.fit_predict(X)"
   ]
  },
  {
   "cell_type": "code",
   "execution_count": 36,
   "id": "5a36a024-d4af-4939-b7c2-9eea35aab479",
   "metadata": {},
   "outputs": [
    {
     "name": "stderr",
     "output_type": "stream",
     "text": [
      "/var/folders/hd/7x_lk_y95t96lcf50ts7cbph0000gn/T/ipykernel_34378/2026600077.py:1: SettingWithCopyWarning: \n",
      "A value is trying to be set on a copy of a slice from a DataFrame.\n",
      "Try using .loc[row_indexer,col_indexer] = value instead\n",
      "\n",
      "See the caveats in the documentation: https://pandas.pydata.org/pandas-docs/stable/user_guide/indexing.html#returning-a-view-versus-a-copy\n",
      "  data[\"clusters\"]=labels\n"
     ]
    }
   ],
   "source": [
    "data[\"clusters\"]=labels"
   ]
  },
  {
   "cell_type": "code",
   "execution_count": 40,
   "id": "63e5e404-4cbe-4072-b3c9-5a01c39b9bf6",
   "metadata": {},
   "outputs": [],
   "source": [
    "df[\"clusters\"]=labels"
   ]
  },
  {
   "cell_type": "code",
   "execution_count": 41,
   "id": "c8fb4201-38c8-4492-bda1-1bbc62bc4592",
   "metadata": {},
   "outputs": [
    {
     "data": {
      "text/html": [
       "<div>\n",
       "<style scoped>\n",
       "    .dataframe tbody tr th:only-of-type {\n",
       "        vertical-align: middle;\n",
       "    }\n",
       "\n",
       "    .dataframe tbody tr th {\n",
       "        vertical-align: top;\n",
       "    }\n",
       "\n",
       "    .dataframe thead th {\n",
       "        text-align: right;\n",
       "    }\n",
       "</style>\n",
       "<table border=\"1\" class=\"dataframe\">\n",
       "  <thead>\n",
       "    <tr style=\"text-align: right;\">\n",
       "      <th></th>\n",
       "      <th>id</th>\n",
       "      <th>title</th>\n",
       "      <th>type</th>\n",
       "      <th>description</th>\n",
       "      <th>release_year</th>\n",
       "      <th>age_certification</th>\n",
       "      <th>runtime</th>\n",
       "      <th>genres</th>\n",
       "      <th>production_countries</th>\n",
       "      <th>seasons</th>\n",
       "      <th>imdb_id</th>\n",
       "      <th>imdb_score</th>\n",
       "      <th>imdb_votes</th>\n",
       "      <th>tmdb_popularity</th>\n",
       "      <th>tmdb_score</th>\n",
       "      <th>text</th>\n",
       "      <th>clusters</th>\n",
       "    </tr>\n",
       "  </thead>\n",
       "  <tbody>\n",
       "    <tr>\n",
       "      <th>0</th>\n",
       "      <td>tm1300</td>\n",
       "      <td>A Charlie Brown Christmas</td>\n",
       "      <td>MOVIE</td>\n",
       "      <td>When Charlie Brown complains about the overwhe...</td>\n",
       "      <td>1965</td>\n",
       "      <td>G</td>\n",
       "      <td>25</td>\n",
       "      <td>['comedy', 'drama', 'family', 'music', 'animat...</td>\n",
       "      <td>['US']</td>\n",
       "      <td>0</td>\n",
       "      <td>tt0059026</td>\n",
       "      <td>8.3</td>\n",
       "      <td>40328.0</td>\n",
       "      <td>10.848</td>\n",
       "      <td>7.688</td>\n",
       "      <td>['comedy', 'drama', 'family', 'music', 'animat...</td>\n",
       "      <td>2</td>\n",
       "    </tr>\n",
       "    <tr>\n",
       "      <th>1</th>\n",
       "      <td>tm71152</td>\n",
       "      <td>It's the Great Pumpkin, Charlie Brown</td>\n",
       "      <td>MOVIE</td>\n",
       "      <td>This classic \"Peanuts\" tale focuses on the thu...</td>\n",
       "      <td>1966</td>\n",
       "      <td>G</td>\n",
       "      <td>25</td>\n",
       "      <td>['animation', 'comedy', 'family']</td>\n",
       "      <td>['US']</td>\n",
       "      <td>0</td>\n",
       "      <td>tt0060550</td>\n",
       "      <td>8.2</td>\n",
       "      <td>20299.0</td>\n",
       "      <td>12.458</td>\n",
       "      <td>7.474</td>\n",
       "      <td>['animation', 'comedy', 'family']['US']G</td>\n",
       "      <td>2</td>\n",
       "    </tr>\n",
       "    <tr>\n",
       "      <th>2</th>\n",
       "      <td>tm2562</td>\n",
       "      <td>A Charlie Brown Thanksgiving</td>\n",
       "      <td>MOVIE</td>\n",
       "      <td>Turkey, cranberries, pumpkin pie... and the Pe...</td>\n",
       "      <td>1973</td>\n",
       "      <td>G</td>\n",
       "      <td>25</td>\n",
       "      <td>['family', 'animation', 'comedy']</td>\n",
       "      <td>['US']</td>\n",
       "      <td>0</td>\n",
       "      <td>tt0068359</td>\n",
       "      <td>7.7</td>\n",
       "      <td>11406.0</td>\n",
       "      <td>12.591</td>\n",
       "      <td>7.311</td>\n",
       "      <td>['family', 'animation', 'comedy']['US']G</td>\n",
       "      <td>2</td>\n",
       "    </tr>\n",
       "    <tr>\n",
       "      <th>3</th>\n",
       "      <td>tm125274</td>\n",
       "      <td>Be My Valentine, Charlie Brown</td>\n",
       "      <td>MOVIE</td>\n",
       "      <td>It's Valentine's Day again and Charlie Brown d...</td>\n",
       "      <td>1975</td>\n",
       "      <td>G</td>\n",
       "      <td>25</td>\n",
       "      <td>['animation', 'family', 'romance', 'comedy']</td>\n",
       "      <td>['US']</td>\n",
       "      <td>0</td>\n",
       "      <td>tt0072687</td>\n",
       "      <td>7.4</td>\n",
       "      <td>2777.0</td>\n",
       "      <td>6.981</td>\n",
       "      <td>7.000</td>\n",
       "      <td>['animation', 'family', 'romance', 'comedy']['...</td>\n",
       "      <td>2</td>\n",
       "    </tr>\n",
       "    <tr>\n",
       "      <th>4</th>\n",
       "      <td>tm106607</td>\n",
       "      <td>It's the Easter Beagle, Charlie Brown</td>\n",
       "      <td>MOVIE</td>\n",
       "      <td>Charlie Brown, Linus and the entire Peanuts ga...</td>\n",
       "      <td>1974</td>\n",
       "      <td>G</td>\n",
       "      <td>25</td>\n",
       "      <td>['family', 'animation', 'comedy']</td>\n",
       "      <td>['US']</td>\n",
       "      <td>0</td>\n",
       "      <td>tt0071679</td>\n",
       "      <td>7.5</td>\n",
       "      <td>3001.0</td>\n",
       "      <td>6.172</td>\n",
       "      <td>6.600</td>\n",
       "      <td>['family', 'animation', 'comedy']['US']G</td>\n",
       "      <td>2</td>\n",
       "    </tr>\n",
       "    <tr>\n",
       "      <th>...</th>\n",
       "      <td>...</td>\n",
       "      <td>...</td>\n",
       "      <td>...</td>\n",
       "      <td>...</td>\n",
       "      <td>...</td>\n",
       "      <td>...</td>\n",
       "      <td>...</td>\n",
       "      <td>...</td>\n",
       "      <td>...</td>\n",
       "      <td>...</td>\n",
       "      <td>...</td>\n",
       "      <td>...</td>\n",
       "      <td>...</td>\n",
       "      <td>...</td>\n",
       "      <td>...</td>\n",
       "      <td>...</td>\n",
       "      <td>...</td>\n",
       "    </tr>\n",
       "    <tr>\n",
       "      <th>165</th>\n",
       "      <td>ts328281</td>\n",
       "      <td>Dear Edward</td>\n",
       "      <td>SHOW</td>\n",
       "      <td>A 12-year-old boy survives a plane crash that ...</td>\n",
       "      <td>2023</td>\n",
       "      <td>TV-MA</td>\n",
       "      <td>0</td>\n",
       "      <td>['drama']</td>\n",
       "      <td>['US']</td>\n",
       "      <td>1.0</td>\n",
       "      <td>tt17543896</td>\n",
       "      <td>7.4</td>\n",
       "      <td>1324.0</td>\n",
       "      <td>37.810</td>\n",
       "      <td>2.000</td>\n",
       "      <td>['drama']['US']TV-MA</td>\n",
       "      <td>4</td>\n",
       "    </tr>\n",
       "    <tr>\n",
       "      <th>166</th>\n",
       "      <td>ts316895</td>\n",
       "      <td>The Reluctant Traveler with Eugene Levy</td>\n",
       "      <td>SHOW</td>\n",
       "      <td>Award-winning actor and nervous explorer Eugen...</td>\n",
       "      <td>2023</td>\n",
       "      <td>TV-PG</td>\n",
       "      <td>35</td>\n",
       "      <td>['documentation', 'reality']</td>\n",
       "      <td>['GB']</td>\n",
       "      <td>1.0</td>\n",
       "      <td>tt15822846</td>\n",
       "      <td>7.8</td>\n",
       "      <td>473.0</td>\n",
       "      <td>13.892</td>\n",
       "      <td>6.800</td>\n",
       "      <td>['documentation', 'reality']['GB']TV-PG</td>\n",
       "      <td>0</td>\n",
       "    </tr>\n",
       "    <tr>\n",
       "      <th>167</th>\n",
       "      <td>ts296808</td>\n",
       "      <td>Liaison</td>\n",
       "      <td>SHOW</td>\n",
       "      <td>This contemporary thriller explores how past m...</td>\n",
       "      <td>2023</td>\n",
       "      <td>TV-MA</td>\n",
       "      <td>51</td>\n",
       "      <td>['crime', 'thriller']</td>\n",
       "      <td>['FR', 'GB']</td>\n",
       "      <td>1.0</td>\n",
       "      <td>tt14792896</td>\n",
       "      <td>6.3</td>\n",
       "      <td>549.0</td>\n",
       "      <td>84.911</td>\n",
       "      <td>6.100</td>\n",
       "      <td>['crime', 'thriller']['FR', 'GB']TV-MA</td>\n",
       "      <td>3</td>\n",
       "    </tr>\n",
       "    <tr>\n",
       "      <th>168</th>\n",
       "      <td>ts374301</td>\n",
       "      <td>Super League: The War For Football</td>\n",
       "      <td>SHOW</td>\n",
       "      <td>The past, present, and future of European foot...</td>\n",
       "      <td>2023</td>\n",
       "      <td>TV-MA</td>\n",
       "      <td>0</td>\n",
       "      <td>['documentation', 'sport']</td>\n",
       "      <td>['US']</td>\n",
       "      <td>1.0</td>\n",
       "      <td>tt24587530</td>\n",
       "      <td>7.4</td>\n",
       "      <td>414.0</td>\n",
       "      <td>6.800</td>\n",
       "      <td>6.700</td>\n",
       "      <td>['documentation', 'sport']['US']TV-MA</td>\n",
       "      <td>4</td>\n",
       "    </tr>\n",
       "    <tr>\n",
       "      <th>169</th>\n",
       "      <td>ts377681</td>\n",
       "      <td>Shape Island</td>\n",
       "      <td>SHOW</td>\n",
       "      <td>On a charming island, Square, Triangle, and Ci...</td>\n",
       "      <td>2023</td>\n",
       "      <td>TV-G</td>\n",
       "      <td>24</td>\n",
       "      <td>['family', 'animation', 'fantasy', 'comedy']</td>\n",
       "      <td>['US']</td>\n",
       "      <td>1.0</td>\n",
       "      <td>tt25515858</td>\n",
       "      <td>7.6</td>\n",
       "      <td>121.0</td>\n",
       "      <td>18.529</td>\n",
       "      <td>9.200</td>\n",
       "      <td>['family', 'animation', 'fantasy', 'comedy']['...</td>\n",
       "      <td>0</td>\n",
       "    </tr>\n",
       "  </tbody>\n",
       "</table>\n",
       "<p>170 rows × 17 columns</p>\n",
       "</div>"
      ],
      "text/plain": [
       "           id                                    title   type  \\\n",
       "0      tm1300                A Charlie Brown Christmas  MOVIE   \n",
       "1     tm71152    It's the Great Pumpkin, Charlie Brown  MOVIE   \n",
       "2      tm2562             A Charlie Brown Thanksgiving  MOVIE   \n",
       "3    tm125274           Be My Valentine, Charlie Brown  MOVIE   \n",
       "4    tm106607    It's the Easter Beagle, Charlie Brown  MOVIE   \n",
       "..        ...                                      ...    ...   \n",
       "165  ts328281                              Dear Edward   SHOW   \n",
       "166  ts316895  The Reluctant Traveler with Eugene Levy   SHOW   \n",
       "167  ts296808                                  Liaison   SHOW   \n",
       "168  ts374301       Super League: The War For Football   SHOW   \n",
       "169  ts377681                             Shape Island   SHOW   \n",
       "\n",
       "                                           description  release_year  \\\n",
       "0    When Charlie Brown complains about the overwhe...          1965   \n",
       "1    This classic \"Peanuts\" tale focuses on the thu...          1966   \n",
       "2    Turkey, cranberries, pumpkin pie... and the Pe...          1973   \n",
       "3    It's Valentine's Day again and Charlie Brown d...          1975   \n",
       "4    Charlie Brown, Linus and the entire Peanuts ga...          1974   \n",
       "..                                                 ...           ...   \n",
       "165  A 12-year-old boy survives a plane crash that ...          2023   \n",
       "166  Award-winning actor and nervous explorer Eugen...          2023   \n",
       "167  This contemporary thriller explores how past m...          2023   \n",
       "168  The past, present, and future of European foot...          2023   \n",
       "169  On a charming island, Square, Triangle, and Ci...          2023   \n",
       "\n",
       "    age_certification  runtime  \\\n",
       "0                   G       25   \n",
       "1                   G       25   \n",
       "2                   G       25   \n",
       "3                   G       25   \n",
       "4                   G       25   \n",
       "..                ...      ...   \n",
       "165             TV-MA        0   \n",
       "166             TV-PG       35   \n",
       "167             TV-MA       51   \n",
       "168             TV-MA        0   \n",
       "169              TV-G       24   \n",
       "\n",
       "                                                genres production_countries  \\\n",
       "0    ['comedy', 'drama', 'family', 'music', 'animat...               ['US']   \n",
       "1                    ['animation', 'comedy', 'family']               ['US']   \n",
       "2                    ['family', 'animation', 'comedy']               ['US']   \n",
       "3         ['animation', 'family', 'romance', 'comedy']               ['US']   \n",
       "4                    ['family', 'animation', 'comedy']               ['US']   \n",
       "..                                                 ...                  ...   \n",
       "165                                          ['drama']               ['US']   \n",
       "166                       ['documentation', 'reality']               ['GB']   \n",
       "167                              ['crime', 'thriller']         ['FR', 'GB']   \n",
       "168                         ['documentation', 'sport']               ['US']   \n",
       "169       ['family', 'animation', 'fantasy', 'comedy']               ['US']   \n",
       "\n",
       "    seasons     imdb_id  imdb_score  imdb_votes  tmdb_popularity  tmdb_score  \\\n",
       "0         0   tt0059026         8.3     40328.0           10.848       7.688   \n",
       "1         0   tt0060550         8.2     20299.0           12.458       7.474   \n",
       "2         0   tt0068359         7.7     11406.0           12.591       7.311   \n",
       "3         0   tt0072687         7.4      2777.0            6.981       7.000   \n",
       "4         0   tt0071679         7.5      3001.0            6.172       6.600   \n",
       "..      ...         ...         ...         ...              ...         ...   \n",
       "165     1.0  tt17543896         7.4      1324.0           37.810       2.000   \n",
       "166     1.0  tt15822846         7.8       473.0           13.892       6.800   \n",
       "167     1.0  tt14792896         6.3       549.0           84.911       6.100   \n",
       "168     1.0  tt24587530         7.4       414.0            6.800       6.700   \n",
       "169     1.0  tt25515858         7.6       121.0           18.529       9.200   \n",
       "\n",
       "                                                  text  clusters  \n",
       "0    ['comedy', 'drama', 'family', 'music', 'animat...         2  \n",
       "1             ['animation', 'comedy', 'family']['US']G         2  \n",
       "2             ['family', 'animation', 'comedy']['US']G         2  \n",
       "3    ['animation', 'family', 'romance', 'comedy']['...         2  \n",
       "4             ['family', 'animation', 'comedy']['US']G         2  \n",
       "..                                                 ...       ...  \n",
       "165                               ['drama']['US']TV-MA         4  \n",
       "166            ['documentation', 'reality']['GB']TV-PG         0  \n",
       "167             ['crime', 'thriller']['FR', 'GB']TV-MA         3  \n",
       "168              ['documentation', 'sport']['US']TV-MA         4  \n",
       "169  ['family', 'animation', 'fantasy', 'comedy']['...         0  \n",
       "\n",
       "[170 rows x 17 columns]"
      ]
     },
     "execution_count": 41,
     "metadata": {},
     "output_type": "execute_result"
    }
   ],
   "source": [
    "df"
   ]
  },
  {
   "cell_type": "code",
   "execution_count": 42,
   "id": "3e942c8e-210e-4f99-8daa-64c62b6d8116",
   "metadata": {},
   "outputs": [],
   "source": [
    "df.to_csv('data_final.csv', index=False)"
   ]
  },
  {
   "cell_type": "code",
   "execution_count": null,
   "id": "4dbf5968-27b0-4a11-a61d-2eb74d48076e",
   "metadata": {},
   "outputs": [],
   "source": []
  }
 ],
 "metadata": {
  "kernelspec": {
   "display_name": "Python 3 (ipykernel)",
   "language": "python",
   "name": "python3"
  },
  "language_info": {
   "codemirror_mode": {
    "name": "ipython",
    "version": 3
   },
   "file_extension": ".py",
   "mimetype": "text/x-python",
   "name": "python",
   "nbconvert_exporter": "python",
   "pygments_lexer": "ipython3",
   "version": "3.11.1"
  }
 },
 "nbformat": 4,
 "nbformat_minor": 5
}
