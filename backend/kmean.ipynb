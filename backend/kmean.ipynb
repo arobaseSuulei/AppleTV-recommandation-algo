{
 "cells": [
  {
   "cell_type": "code",
   "execution_count": 33,
   "id": "2dc30463-97b5-4cf3-bb0d-bcfd546eac5b",
   "metadata": {},
   "outputs": [],
   "source": [
    "import pandas as pd\n",
    "from sentence_transformers import SentenceTransformer"
   ]
  },
  {
   "cell_type": "code",
   "execution_count": 34,
   "id": "5e00dc9c-12eb-4cf3-9c47-c5870326f407",
   "metadata": {},
   "outputs": [
    {
     "name": "stderr",
     "output_type": "stream",
     "text": [
      "huggingface/tokenizers: The current process just got forked, after parallelism has already been used. Disabling parallelism to avoid deadlocks...\n",
      "To disable this warning, you can either:\n",
      "\t- Avoid using `tokenizers` before the fork if possible\n",
      "\t- Explicitly set the environment variable TOKENIZERS_PARALLELISM=(true | false)\n"
     ]
    },
    {
     "name": "stdout",
     "output_type": "stream",
     "text": [
      "Requirement already satisfied: sentence-transformers in /Users/diallothiernosouleymane/Desktop/AppleTV/backend/venv/lib/python3.11/site-packages (5.0.0)\n",
      "Requirement already satisfied: transformers<5.0.0,>=4.41.0 in /Users/diallothiernosouleymane/Desktop/AppleTV/backend/venv/lib/python3.11/site-packages (from sentence-transformers) (4.53.1)\n",
      "Requirement already satisfied: tqdm in /Users/diallothiernosouleymane/Desktop/AppleTV/backend/venv/lib/python3.11/site-packages (from sentence-transformers) (4.67.1)\n",
      "Requirement already satisfied: torch>=1.11.0 in /Users/diallothiernosouleymane/Desktop/AppleTV/backend/venv/lib/python3.11/site-packages (from sentence-transformers) (2.2.2)\n",
      "Requirement already satisfied: scikit-learn in /Users/diallothiernosouleymane/Desktop/AppleTV/backend/venv/lib/python3.11/site-packages (from sentence-transformers) (1.7.0)\n",
      "Requirement already satisfied: scipy in /Users/diallothiernosouleymane/Desktop/AppleTV/backend/venv/lib/python3.11/site-packages (from sentence-transformers) (1.16.0)\n",
      "Requirement already satisfied: huggingface-hub>=0.20.0 in /Users/diallothiernosouleymane/Desktop/AppleTV/backend/venv/lib/python3.11/site-packages (from sentence-transformers) (0.33.2)\n",
      "Requirement already satisfied: Pillow in /Users/diallothiernosouleymane/Desktop/AppleTV/backend/venv/lib/python3.11/site-packages (from sentence-transformers) (11.3.0)\n",
      "Requirement already satisfied: typing_extensions>=4.5.0 in /Users/diallothiernosouleymane/Desktop/AppleTV/backend/venv/lib/python3.11/site-packages (from sentence-transformers) (4.14.1)\n",
      "Requirement already satisfied: filelock in /Users/diallothiernosouleymane/Desktop/AppleTV/backend/venv/lib/python3.11/site-packages (from huggingface-hub>=0.20.0->sentence-transformers) (3.18.0)\n",
      "Requirement already satisfied: fsspec>=2023.5.0 in /Users/diallothiernosouleymane/Desktop/AppleTV/backend/venv/lib/python3.11/site-packages (from huggingface-hub>=0.20.0->sentence-transformers) (2025.5.1)\n",
      "Requirement already satisfied: packaging>=20.9 in /Users/diallothiernosouleymane/Desktop/AppleTV/backend/venv/lib/python3.11/site-packages (from huggingface-hub>=0.20.0->sentence-transformers) (25.0)\n",
      "Requirement already satisfied: pyyaml>=5.1 in /Users/diallothiernosouleymane/Desktop/AppleTV/backend/venv/lib/python3.11/site-packages (from huggingface-hub>=0.20.0->sentence-transformers) (6.0.2)\n",
      "Requirement already satisfied: requests in /Users/diallothiernosouleymane/Desktop/AppleTV/backend/venv/lib/python3.11/site-packages (from huggingface-hub>=0.20.0->sentence-transformers) (2.32.4)\n",
      "Requirement already satisfied: hf-xet<2.0.0,>=1.1.2 in /Users/diallothiernosouleymane/Desktop/AppleTV/backend/venv/lib/python3.11/site-packages (from huggingface-hub>=0.20.0->sentence-transformers) (1.1.5)\n",
      "Requirement already satisfied: sympy in /Users/diallothiernosouleymane/Desktop/AppleTV/backend/venv/lib/python3.11/site-packages (from torch>=1.11.0->sentence-transformers) (1.14.0)\n",
      "Requirement already satisfied: networkx in /Users/diallothiernosouleymane/Desktop/AppleTV/backend/venv/lib/python3.11/site-packages (from torch>=1.11.0->sentence-transformers) (3.5)\n",
      "Requirement already satisfied: jinja2 in /Users/diallothiernosouleymane/Desktop/AppleTV/backend/venv/lib/python3.11/site-packages (from torch>=1.11.0->sentence-transformers) (3.1.6)\n",
      "Requirement already satisfied: numpy>=1.17 in /Users/diallothiernosouleymane/Desktop/AppleTV/backend/venv/lib/python3.11/site-packages (from transformers<5.0.0,>=4.41.0->sentence-transformers) (2.3.1)\n",
      "Requirement already satisfied: regex!=2019.12.17 in /Users/diallothiernosouleymane/Desktop/AppleTV/backend/venv/lib/python3.11/site-packages (from transformers<5.0.0,>=4.41.0->sentence-transformers) (2024.11.6)\n",
      "Requirement already satisfied: tokenizers<0.22,>=0.21 in /Users/diallothiernosouleymane/Desktop/AppleTV/backend/venv/lib/python3.11/site-packages (from transformers<5.0.0,>=4.41.0->sentence-transformers) (0.21.2)\n",
      "Requirement already satisfied: safetensors>=0.4.3 in /Users/diallothiernosouleymane/Desktop/AppleTV/backend/venv/lib/python3.11/site-packages (from transformers<5.0.0,>=4.41.0->sentence-transformers) (0.5.3)\n",
      "Requirement already satisfied: joblib>=1.2.0 in /Users/diallothiernosouleymane/Desktop/AppleTV/backend/venv/lib/python3.11/site-packages (from scikit-learn->sentence-transformers) (1.5.1)\n",
      "Requirement already satisfied: threadpoolctl>=3.1.0 in /Users/diallothiernosouleymane/Desktop/AppleTV/backend/venv/lib/python3.11/site-packages (from scikit-learn->sentence-transformers) (3.6.0)\n",
      "Requirement already satisfied: MarkupSafe>=2.0 in /Users/diallothiernosouleymane/Desktop/AppleTV/backend/venv/lib/python3.11/site-packages (from jinja2->torch>=1.11.0->sentence-transformers) (3.0.2)\n",
      "Requirement already satisfied: charset_normalizer<4,>=2 in /Users/diallothiernosouleymane/Desktop/AppleTV/backend/venv/lib/python3.11/site-packages (from requests->huggingface-hub>=0.20.0->sentence-transformers) (3.4.2)\n",
      "Requirement already satisfied: idna<4,>=2.5 in /Users/diallothiernosouleymane/Desktop/AppleTV/backend/venv/lib/python3.11/site-packages (from requests->huggingface-hub>=0.20.0->sentence-transformers) (3.10)\n",
      "Requirement already satisfied: urllib3<3,>=1.21.1 in /Users/diallothiernosouleymane/Desktop/AppleTV/backend/venv/lib/python3.11/site-packages (from requests->huggingface-hub>=0.20.0->sentence-transformers) (2.5.0)\n",
      "Requirement already satisfied: certifi>=2017.4.17 in /Users/diallothiernosouleymane/Desktop/AppleTV/backend/venv/lib/python3.11/site-packages (from requests->huggingface-hub>=0.20.0->sentence-transformers) (2025.6.15)\n",
      "Requirement already satisfied: mpmath<1.4,>=1.1.0 in /Users/diallothiernosouleymane/Desktop/AppleTV/backend/venv/lib/python3.11/site-packages (from sympy->torch>=1.11.0->sentence-transformers) (1.3.0)\n",
      "\n",
      "\u001b[1m[\u001b[0m\u001b[34;49mnotice\u001b[0m\u001b[1;39;49m]\u001b[0m\u001b[39;49m A new release of pip available: \u001b[0m\u001b[31;49m22.3.1\u001b[0m\u001b[39;49m -> \u001b[0m\u001b[32;49m25.1.1\u001b[0m\n",
      "\u001b[1m[\u001b[0m\u001b[34;49mnotice\u001b[0m\u001b[1;39;49m]\u001b[0m\u001b[39;49m To update, run: \u001b[0m\u001b[32;49mpip install --upgrade pip\u001b[0m\n"
     ]
    }
   ],
   "source": [
    "!pip install sentence-transformers"
   ]
  },
  {
   "cell_type": "code",
   "execution_count": 3,
   "id": "cd3720e3-38be-4915-9698-126693ee28c9",
   "metadata": {},
   "outputs": [],
   "source": [
    "df=pd.read_csv(\"../archive/titles.csv\")"
   ]
  },
  {
   "cell_type": "code",
   "execution_count": null,
   "id": "307cdf86-adb0-43c6-8fb4-9259afbb8ae1",
   "metadata": {},
   "outputs": [],
   "source": []
  },
  {
   "cell_type": "code",
   "execution_count": 4,
   "id": "094029d5-eaa1-41c4-b936-435915caca00",
   "metadata": {},
   "outputs": [
    {
     "data": {
      "text/html": [
       "<div>\n",
       "<style scoped>\n",
       "    .dataframe tbody tr th:only-of-type {\n",
       "        vertical-align: middle;\n",
       "    }\n",
       "\n",
       "    .dataframe tbody tr th {\n",
       "        vertical-align: top;\n",
       "    }\n",
       "\n",
       "    .dataframe thead th {\n",
       "        text-align: right;\n",
       "    }\n",
       "</style>\n",
       "<table border=\"1\" class=\"dataframe\">\n",
       "  <thead>\n",
       "    <tr style=\"text-align: right;\">\n",
       "      <th></th>\n",
       "      <th>id</th>\n",
       "      <th>title</th>\n",
       "      <th>type</th>\n",
       "      <th>description</th>\n",
       "      <th>release_year</th>\n",
       "      <th>age_certification</th>\n",
       "      <th>runtime</th>\n",
       "      <th>genres</th>\n",
       "      <th>production_countries</th>\n",
       "      <th>seasons</th>\n",
       "      <th>imdb_id</th>\n",
       "      <th>imdb_score</th>\n",
       "      <th>imdb_votes</th>\n",
       "      <th>tmdb_popularity</th>\n",
       "      <th>tmdb_score</th>\n",
       "    </tr>\n",
       "  </thead>\n",
       "  <tbody>\n",
       "    <tr>\n",
       "      <th>0</th>\n",
       "      <td>tm1300</td>\n",
       "      <td>A Charlie Brown Christmas</td>\n",
       "      <td>MOVIE</td>\n",
       "      <td>When Charlie Brown complains about the overwhe...</td>\n",
       "      <td>1965</td>\n",
       "      <td>G</td>\n",
       "      <td>25</td>\n",
       "      <td>['comedy', 'drama', 'family', 'music', 'animat...</td>\n",
       "      <td>['US']</td>\n",
       "      <td>NaN</td>\n",
       "      <td>tt0059026</td>\n",
       "      <td>8.3</td>\n",
       "      <td>40328.0</td>\n",
       "      <td>10.848</td>\n",
       "      <td>7.688</td>\n",
       "    </tr>\n",
       "    <tr>\n",
       "      <th>1</th>\n",
       "      <td>tm71152</td>\n",
       "      <td>It's the Great Pumpkin, Charlie Brown</td>\n",
       "      <td>MOVIE</td>\n",
       "      <td>This classic \"Peanuts\" tale focuses on the thu...</td>\n",
       "      <td>1966</td>\n",
       "      <td>G</td>\n",
       "      <td>25</td>\n",
       "      <td>['animation', 'comedy', 'family']</td>\n",
       "      <td>['US']</td>\n",
       "      <td>NaN</td>\n",
       "      <td>tt0060550</td>\n",
       "      <td>8.2</td>\n",
       "      <td>20299.0</td>\n",
       "      <td>12.458</td>\n",
       "      <td>7.474</td>\n",
       "    </tr>\n",
       "    <tr>\n",
       "      <th>2</th>\n",
       "      <td>tm2562</td>\n",
       "      <td>A Charlie Brown Thanksgiving</td>\n",
       "      <td>MOVIE</td>\n",
       "      <td>Turkey, cranberries, pumpkin pie... and the Pe...</td>\n",
       "      <td>1973</td>\n",
       "      <td>G</td>\n",
       "      <td>25</td>\n",
       "      <td>['family', 'animation', 'comedy']</td>\n",
       "      <td>['US']</td>\n",
       "      <td>NaN</td>\n",
       "      <td>tt0068359</td>\n",
       "      <td>7.7</td>\n",
       "      <td>11406.0</td>\n",
       "      <td>12.591</td>\n",
       "      <td>7.311</td>\n",
       "    </tr>\n",
       "    <tr>\n",
       "      <th>3</th>\n",
       "      <td>tm125274</td>\n",
       "      <td>Be My Valentine, Charlie Brown</td>\n",
       "      <td>MOVIE</td>\n",
       "      <td>It's Valentine's Day again and Charlie Brown d...</td>\n",
       "      <td>1975</td>\n",
       "      <td>G</td>\n",
       "      <td>25</td>\n",
       "      <td>['animation', 'family', 'romance', 'comedy']</td>\n",
       "      <td>['US']</td>\n",
       "      <td>NaN</td>\n",
       "      <td>tt0072687</td>\n",
       "      <td>7.4</td>\n",
       "      <td>2777.0</td>\n",
       "      <td>6.981</td>\n",
       "      <td>7.000</td>\n",
       "    </tr>\n",
       "    <tr>\n",
       "      <th>4</th>\n",
       "      <td>tm106607</td>\n",
       "      <td>It's the Easter Beagle, Charlie Brown</td>\n",
       "      <td>MOVIE</td>\n",
       "      <td>Charlie Brown, Linus and the entire Peanuts ga...</td>\n",
       "      <td>1974</td>\n",
       "      <td>G</td>\n",
       "      <td>25</td>\n",
       "      <td>['family', 'animation', 'comedy']</td>\n",
       "      <td>['US']</td>\n",
       "      <td>NaN</td>\n",
       "      <td>tt0071679</td>\n",
       "      <td>7.5</td>\n",
       "      <td>3001.0</td>\n",
       "      <td>6.172</td>\n",
       "      <td>6.600</td>\n",
       "    </tr>\n",
       "  </tbody>\n",
       "</table>\n",
       "</div>"
      ],
      "text/plain": [
       "         id                                  title   type  \\\n",
       "0    tm1300              A Charlie Brown Christmas  MOVIE   \n",
       "1   tm71152  It's the Great Pumpkin, Charlie Brown  MOVIE   \n",
       "2    tm2562           A Charlie Brown Thanksgiving  MOVIE   \n",
       "3  tm125274         Be My Valentine, Charlie Brown  MOVIE   \n",
       "4  tm106607  It's the Easter Beagle, Charlie Brown  MOVIE   \n",
       "\n",
       "                                         description  release_year  \\\n",
       "0  When Charlie Brown complains about the overwhe...          1965   \n",
       "1  This classic \"Peanuts\" tale focuses on the thu...          1966   \n",
       "2  Turkey, cranberries, pumpkin pie... and the Pe...          1973   \n",
       "3  It's Valentine's Day again and Charlie Brown d...          1975   \n",
       "4  Charlie Brown, Linus and the entire Peanuts ga...          1974   \n",
       "\n",
       "  age_certification  runtime  \\\n",
       "0                 G       25   \n",
       "1                 G       25   \n",
       "2                 G       25   \n",
       "3                 G       25   \n",
       "4                 G       25   \n",
       "\n",
       "                                              genres production_countries  \\\n",
       "0  ['comedy', 'drama', 'family', 'music', 'animat...               ['US']   \n",
       "1                  ['animation', 'comedy', 'family']               ['US']   \n",
       "2                  ['family', 'animation', 'comedy']               ['US']   \n",
       "3       ['animation', 'family', 'romance', 'comedy']               ['US']   \n",
       "4                  ['family', 'animation', 'comedy']               ['US']   \n",
       "\n",
       "   seasons    imdb_id  imdb_score  imdb_votes  tmdb_popularity  tmdb_score  \n",
       "0      NaN  tt0059026         8.3     40328.0           10.848       7.688  \n",
       "1      NaN  tt0060550         8.2     20299.0           12.458       7.474  \n",
       "2      NaN  tt0068359         7.7     11406.0           12.591       7.311  \n",
       "3      NaN  tt0072687         7.4      2777.0            6.981       7.000  \n",
       "4      NaN  tt0071679         7.5      3001.0            6.172       6.600  "
      ]
     },
     "execution_count": 4,
     "metadata": {},
     "output_type": "execute_result"
    }
   ],
   "source": [
    "df.head()"
   ]
  },
  {
   "cell_type": "code",
   "execution_count": 5,
   "id": "5da70419-0fdc-446a-8a47-524550226fd0",
   "metadata": {},
   "outputs": [
    {
     "data": {
      "text/plain": [
       "Index(['id', 'title', 'type', 'description', 'release_year',\n",
       "       'age_certification', 'runtime', 'genres', 'production_countries',\n",
       "       'seasons', 'imdb_id', 'imdb_score', 'imdb_votes', 'tmdb_popularity',\n",
       "       'tmdb_score'],\n",
       "      dtype='object')"
      ]
     },
     "execution_count": 5,
     "metadata": {},
     "output_type": "execute_result"
    }
   ],
   "source": [
    "df.columns"
   ]
  },
  {
   "cell_type": "code",
   "execution_count": 6,
   "id": "f8bdef5c-2115-45fd-9c2d-91bcd87e5741",
   "metadata": {},
   "outputs": [],
   "source": [
    "df[\"seasons\"]=df[\"seasons\"].fillna(\"0\")"
   ]
  },
  {
   "cell_type": "code",
   "execution_count": 7,
   "id": "0059b50d-619c-4547-bed7-7b0d2faaf3c2",
   "metadata": {},
   "outputs": [
    {
     "data": {
      "text/plain": [
       "id                       0\n",
       "title                    0\n",
       "type                     0\n",
       "description              0\n",
       "release_year             0\n",
       "age_certification       11\n",
       "runtime                  0\n",
       "genres                   0\n",
       "production_countries     0\n",
       "seasons                  0\n",
       "imdb_id                  1\n",
       "imdb_score               3\n",
       "imdb_votes               4\n",
       "tmdb_popularity          0\n",
       "tmdb_score               3\n",
       "dtype: int64"
      ]
     },
     "execution_count": 7,
     "metadata": {},
     "output_type": "execute_result"
    }
   ],
   "source": [
    "df.isna().sum()"
   ]
  },
  {
   "cell_type": "code",
   "execution_count": 8,
   "id": "b58a0496-f759-42b7-8731-89bd8e7688b7",
   "metadata": {},
   "outputs": [
    {
     "name": "stdout",
     "output_type": "stream",
     "text": [
      "TV-MA\n"
     ]
    }
   ],
   "source": [
    "#cherchons le mode\n",
    "mode_value = df['age_certification'].mode()[0]\n",
    "print(mode_value)\n",
    "\n",
    "\n",
    "\n"
   ]
  },
  {
   "cell_type": "code",
   "execution_count": 9,
   "id": "680cc672-b9da-494c-9b30-3e4a4433a1fa",
   "metadata": {},
   "outputs": [],
   "source": [
    "df[\"age_certification\"]=df[\"age_certification\"].fillna(mode_value)"
   ]
  },
  {
   "cell_type": "code",
   "execution_count": 10,
   "id": "e216a4f7-05ed-4707-be45-09165efb68ee",
   "metadata": {},
   "outputs": [
    {
     "name": "stdout",
     "output_type": "stream",
     "text": [
      "7.7\n"
     ]
    }
   ],
   "source": [
    "mode_imdbScore = df['imdb_score'].mode()[0]\n",
    "print(mode_imdbScore)"
   ]
  },
  {
   "cell_type": "code",
   "execution_count": 11,
   "id": "1c735260-c905-4006-8e45-52a5d179704d",
   "metadata": {},
   "outputs": [],
   "source": [
    "df[\"imdb_score\"]=df[\"imdb_score\"].fillna(mode_imdbScore)"
   ]
  },
  {
   "cell_type": "code",
   "execution_count": 12,
   "id": "12ed0dbc-5b51-4008-a7e4-3e3cfbcbfcd2",
   "metadata": {},
   "outputs": [
    {
     "name": "stdout",
     "output_type": "stream",
     "text": [
      "7.0\n"
     ]
    }
   ],
   "source": [
    "mode_tmdbScore = df['tmdb_score'].mode()[0]\n",
    "print(mode_tmdbScore)"
   ]
  },
  {
   "cell_type": "code",
   "execution_count": 13,
   "id": "646035ce-8cd4-44d1-969d-44388ed30070",
   "metadata": {},
   "outputs": [],
   "source": [
    "df[\"tmdb_score\"]=df[\"tmdb_score\"].fillna(mode_tmdbScore)"
   ]
  },
  {
   "cell_type": "code",
   "execution_count": 14,
   "id": "24fc0d3b-e6ef-46cb-909f-a785c305cc44",
   "metadata": {},
   "outputs": [
    {
     "data": {
      "text/plain": [
       "Index(['id', 'title', 'type', 'description', 'release_year',\n",
       "       'age_certification', 'runtime', 'genres', 'production_countries',\n",
       "       'seasons', 'imdb_id', 'imdb_score', 'imdb_votes', 'tmdb_popularity',\n",
       "       'tmdb_score'],\n",
       "      dtype='object')"
      ]
     },
     "execution_count": 14,
     "metadata": {},
     "output_type": "execute_result"
    }
   ],
   "source": [
    "df.columns"
   ]
  },
  {
   "cell_type": "code",
   "execution_count": 15,
   "id": "188aab20-1c73-47d8-857e-223bd993bc6f",
   "metadata": {},
   "outputs": [],
   "source": [
    "data=df[[\"release_year\",'runtime', 'genres','seasons','production_countries','age_certification','imdb_score','tmdb_score']]"
   ]
  },
  {
   "cell_type": "code",
   "execution_count": 16,
   "id": "ae862a39-0a46-445e-8828-c3adcfc1ef21",
   "metadata": {},
   "outputs": [
    {
     "data": {
      "text/html": [
       "<div>\n",
       "<style scoped>\n",
       "    .dataframe tbody tr th:only-of-type {\n",
       "        vertical-align: middle;\n",
       "    }\n",
       "\n",
       "    .dataframe tbody tr th {\n",
       "        vertical-align: top;\n",
       "    }\n",
       "\n",
       "    .dataframe thead th {\n",
       "        text-align: right;\n",
       "    }\n",
       "</style>\n",
       "<table border=\"1\" class=\"dataframe\">\n",
       "  <thead>\n",
       "    <tr style=\"text-align: right;\">\n",
       "      <th></th>\n",
       "      <th>release_year</th>\n",
       "      <th>runtime</th>\n",
       "      <th>genres</th>\n",
       "      <th>seasons</th>\n",
       "      <th>production_countries</th>\n",
       "      <th>age_certification</th>\n",
       "      <th>imdb_score</th>\n",
       "      <th>tmdb_score</th>\n",
       "    </tr>\n",
       "  </thead>\n",
       "  <tbody>\n",
       "    <tr>\n",
       "      <th>0</th>\n",
       "      <td>1965</td>\n",
       "      <td>25</td>\n",
       "      <td>['comedy', 'drama', 'family', 'music', 'animat...</td>\n",
       "      <td>0</td>\n",
       "      <td>['US']</td>\n",
       "      <td>G</td>\n",
       "      <td>8.3</td>\n",
       "      <td>7.688</td>\n",
       "    </tr>\n",
       "    <tr>\n",
       "      <th>1</th>\n",
       "      <td>1966</td>\n",
       "      <td>25</td>\n",
       "      <td>['animation', 'comedy', 'family']</td>\n",
       "      <td>0</td>\n",
       "      <td>['US']</td>\n",
       "      <td>G</td>\n",
       "      <td>8.2</td>\n",
       "      <td>7.474</td>\n",
       "    </tr>\n",
       "    <tr>\n",
       "      <th>2</th>\n",
       "      <td>1973</td>\n",
       "      <td>25</td>\n",
       "      <td>['family', 'animation', 'comedy']</td>\n",
       "      <td>0</td>\n",
       "      <td>['US']</td>\n",
       "      <td>G</td>\n",
       "      <td>7.7</td>\n",
       "      <td>7.311</td>\n",
       "    </tr>\n",
       "    <tr>\n",
       "      <th>3</th>\n",
       "      <td>1975</td>\n",
       "      <td>25</td>\n",
       "      <td>['animation', 'family', 'romance', 'comedy']</td>\n",
       "      <td>0</td>\n",
       "      <td>['US']</td>\n",
       "      <td>G</td>\n",
       "      <td>7.4</td>\n",
       "      <td>7.000</td>\n",
       "    </tr>\n",
       "    <tr>\n",
       "      <th>4</th>\n",
       "      <td>1974</td>\n",
       "      <td>25</td>\n",
       "      <td>['family', 'animation', 'comedy']</td>\n",
       "      <td>0</td>\n",
       "      <td>['US']</td>\n",
       "      <td>G</td>\n",
       "      <td>7.5</td>\n",
       "      <td>6.600</td>\n",
       "    </tr>\n",
       "  </tbody>\n",
       "</table>\n",
       "</div>"
      ],
      "text/plain": [
       "   release_year  runtime                                             genres  \\\n",
       "0          1965       25  ['comedy', 'drama', 'family', 'music', 'animat...   \n",
       "1          1966       25                  ['animation', 'comedy', 'family']   \n",
       "2          1973       25                  ['family', 'animation', 'comedy']   \n",
       "3          1975       25       ['animation', 'family', 'romance', 'comedy']   \n",
       "4          1974       25                  ['family', 'animation', 'comedy']   \n",
       "\n",
       "  seasons production_countries age_certification  imdb_score  tmdb_score  \n",
       "0       0               ['US']                 G         8.3       7.688  \n",
       "1       0               ['US']                 G         8.2       7.474  \n",
       "2       0               ['US']                 G         7.7       7.311  \n",
       "3       0               ['US']                 G         7.4       7.000  \n",
       "4       0               ['US']                 G         7.5       6.600  "
      ]
     },
     "execution_count": 16,
     "metadata": {},
     "output_type": "execute_result"
    }
   ],
   "source": [
    "data.head()"
   ]
  },
  {
   "cell_type": "code",
   "execution_count": 17,
   "id": "8e3d5b46-303a-4ccf-bb58-ddcc29cdc14c",
   "metadata": {},
   "outputs": [
    {
     "data": {
      "text/plain": [
       "release_year            0\n",
       "runtime                 0\n",
       "genres                  0\n",
       "seasons                 0\n",
       "production_countries    0\n",
       "age_certification       0\n",
       "imdb_score              0\n",
       "tmdb_score              0\n",
       "dtype: int64"
      ]
     },
     "execution_count": 17,
     "metadata": {},
     "output_type": "execute_result"
    }
   ],
   "source": [
    "data.isna().sum()"
   ]
  },
  {
   "cell_type": "code",
   "execution_count": 18,
   "id": "88279a77-4425-466c-af22-0cf3da0dea83",
   "metadata": {},
   "outputs": [],
   "source": [
    "data_two=data"
   ]
  },
  {
   "cell_type": "code",
   "execution_count": 19,
   "id": "42af5c13-73b7-4aac-9217-65699c753c32",
   "metadata": {},
   "outputs": [],
   "source": [
    "# 1. Load a pretrained Sentence Transformer model\n",
    "model = SentenceTransformer(\"all-MiniLM-L6-v2\")\n"
   ]
  },
  {
   "cell_type": "code",
   "execution_count": 30,
   "id": "16dd7448-ac51-4e6e-9aba-7fb100570575",
   "metadata": {},
   "outputs": [
    {
     "data": {
      "text/plain": [
       "release_year            0\n",
       "runtime                 0\n",
       "genres                  0\n",
       "seasons                 0\n",
       "production_countries    0\n",
       "age_certification       0\n",
       "imdb_score              0\n",
       "tmdb_score              0\n",
       "dtype: int64"
      ]
     },
     "execution_count": 30,
     "metadata": {},
     "output_type": "execute_result"
    }
   ],
   "source": [
    "data.isna().sum()"
   ]
  },
  {
   "cell_type": "code",
   "execution_count": 31,
   "id": "4acc17f0-2938-4b17-a9e4-58a0f8da0fb0",
   "metadata": {},
   "outputs": [
    {
     "name": "stderr",
     "output_type": "stream",
     "text": [
      "/var/folders/hd/7x_lk_y95t96lcf50ts7cbph0000gn/T/ipykernel_88871/2482216642.py:1: SettingWithCopyWarning: \n",
      "A value is trying to be set on a copy of a slice from a DataFrame.\n",
      "Try using .loc[row_indexer,col_indexer] = value instead\n",
      "\n",
      "See the caveats in the documentation: https://pandas.pydata.org/pandas-docs/stable/user_guide/indexing.html#returning-a-view-versus-a-copy\n",
      "  data['text'] = data['genres'] + ' ' + data['production_countries'] + ' ' + data['age_certification']\n"
     ]
    }
   ],
   "source": [
    "data['text'] = data['genres'] + ' ' + data['production_countries'] + ' ' + data['age_certification']"
   ]
  },
  {
   "cell_type": "code",
   "execution_count": 35,
   "id": "8414cd55-3eb6-4f8f-a055-400c19bad596",
   "metadata": {},
   "outputs": [
    {
     "name": "stderr",
     "output_type": "stream",
     "text": [
      "Batches: 100%|████████████████████████████████████████████████████████████████████████████████████| 6/6 [00:01<00:00,  3.22it/s]\n"
     ]
    },
    {
     "ename": "RuntimeError",
     "evalue": "Numpy is not available",
     "output_type": "error",
     "traceback": [
      "\u001b[31m---------------------------------------------------------------------------\u001b[39m",
      "\u001b[31mRuntimeError\u001b[39m                              Traceback (most recent call last)",
      "\u001b[36mCell\u001b[39m\u001b[36m \u001b[39m\u001b[32mIn[35]\u001b[39m\u001b[32m, line 4\u001b[39m\n\u001b[32m      1\u001b[39m model = SentenceTransformer(\u001b[33m'\u001b[39m\u001b[33mall-MiniLM-L6-v2\u001b[39m\u001b[33m'\u001b[39m)\n\u001b[32m      3\u001b[39m \u001b[38;5;66;03m# embeddings → matrice (n_lignes, 384)\u001b[39;00m\n\u001b[32m----> \u001b[39m\u001b[32m4\u001b[39m embeddings = \u001b[43mmodel\u001b[49m\u001b[43m.\u001b[49m\u001b[43mencode\u001b[49m\u001b[43m(\u001b[49m\u001b[43mdata\u001b[49m\u001b[43m[\u001b[49m\u001b[33;43m'\u001b[39;49m\u001b[33;43mtext\u001b[39;49m\u001b[33;43m'\u001b[39;49m\u001b[43m]\u001b[49m\u001b[43m.\u001b[49m\u001b[43mtolist\u001b[49m\u001b[43m(\u001b[49m\u001b[43m)\u001b[49m\u001b[43m,\u001b[49m\u001b[43m \u001b[49m\u001b[43mshow_progress_bar\u001b[49m\u001b[43m=\u001b[49m\u001b[38;5;28;43;01mTrue\u001b[39;49;00m\u001b[43m)\u001b[49m\n",
      "\u001b[36mFile \u001b[39m\u001b[32m~/Desktop/AppleTV/backend/venv/lib/python3.11/site-packages/torch/utils/_contextlib.py:115\u001b[39m, in \u001b[36mcontext_decorator.<locals>.decorate_context\u001b[39m\u001b[34m(*args, **kwargs)\u001b[39m\n\u001b[32m    112\u001b[39m \u001b[38;5;129m@functools\u001b[39m.wraps(func)\n\u001b[32m    113\u001b[39m \u001b[38;5;28;01mdef\u001b[39;00m\u001b[38;5;250m \u001b[39m\u001b[34mdecorate_context\u001b[39m(*args, **kwargs):\n\u001b[32m    114\u001b[39m     \u001b[38;5;28;01mwith\u001b[39;00m ctx_factory():\n\u001b[32m--> \u001b[39m\u001b[32m115\u001b[39m         \u001b[38;5;28;01mreturn\u001b[39;00m \u001b[43mfunc\u001b[49m\u001b[43m(\u001b[49m\u001b[43m*\u001b[49m\u001b[43margs\u001b[49m\u001b[43m,\u001b[49m\u001b[43m \u001b[49m\u001b[43m*\u001b[49m\u001b[43m*\u001b[49m\u001b[43mkwargs\u001b[49m\u001b[43m)\u001b[49m\n",
      "\u001b[36mFile \u001b[39m\u001b[32m~/Desktop/AppleTV/backend/venv/lib/python3.11/site-packages/sentence_transformers/SentenceTransformer.py:1110\u001b[39m, in \u001b[36mSentenceTransformer.encode\u001b[39m\u001b[34m(self, sentences, prompt_name, prompt, batch_size, show_progress_bar, output_value, precision, convert_to_numpy, convert_to_tensor, device, normalize_embeddings, truncate_dim, pool, chunk_size, **kwargs)\u001b[39m\n\u001b[32m   1108\u001b[39m             all_embeddings = np.asarray([emb.float().numpy() \u001b[38;5;28;01mfor\u001b[39;00m emb \u001b[38;5;129;01min\u001b[39;00m all_embeddings])\n\u001b[32m   1109\u001b[39m         \u001b[38;5;28;01melse\u001b[39;00m:\n\u001b[32m-> \u001b[39m\u001b[32m1110\u001b[39m             all_embeddings = np.asarray(\u001b[43m[\u001b[49m\u001b[43memb\u001b[49m\u001b[43m.\u001b[49m\u001b[43mnumpy\u001b[49m\u001b[43m(\u001b[49m\u001b[43m)\u001b[49m\u001b[43m \u001b[49m\u001b[38;5;28;43;01mfor\u001b[39;49;00m\u001b[43m \u001b[49m\u001b[43memb\u001b[49m\u001b[43m \u001b[49m\u001b[38;5;129;43;01min\u001b[39;49;00m\u001b[43m \u001b[49m\u001b[43mall_embeddings\u001b[49m\u001b[43m]\u001b[49m)\n\u001b[32m   1111\u001b[39m \u001b[38;5;28;01melif\u001b[39;00m \u001b[38;5;28misinstance\u001b[39m(all_embeddings, np.ndarray):\n\u001b[32m   1112\u001b[39m     all_embeddings = [torch.from_numpy(embedding) \u001b[38;5;28;01mfor\u001b[39;00m embedding \u001b[38;5;129;01min\u001b[39;00m all_embeddings]\n",
      "\u001b[36mFile \u001b[39m\u001b[32m~/Desktop/AppleTV/backend/venv/lib/python3.11/site-packages/sentence_transformers/SentenceTransformer.py:1110\u001b[39m, in \u001b[36m<listcomp>\u001b[39m\u001b[34m(.0)\u001b[39m\n\u001b[32m   1108\u001b[39m             all_embeddings = np.asarray([emb.float().numpy() \u001b[38;5;28;01mfor\u001b[39;00m emb \u001b[38;5;129;01min\u001b[39;00m all_embeddings])\n\u001b[32m   1109\u001b[39m         \u001b[38;5;28;01melse\u001b[39;00m:\n\u001b[32m-> \u001b[39m\u001b[32m1110\u001b[39m             all_embeddings = np.asarray([\u001b[43memb\u001b[49m\u001b[43m.\u001b[49m\u001b[43mnumpy\u001b[49m\u001b[43m(\u001b[49m\u001b[43m)\u001b[49m \u001b[38;5;28;01mfor\u001b[39;00m emb \u001b[38;5;129;01min\u001b[39;00m all_embeddings])\n\u001b[32m   1111\u001b[39m \u001b[38;5;28;01melif\u001b[39;00m \u001b[38;5;28misinstance\u001b[39m(all_embeddings, np.ndarray):\n\u001b[32m   1112\u001b[39m     all_embeddings = [torch.from_numpy(embedding) \u001b[38;5;28;01mfor\u001b[39;00m embedding \u001b[38;5;129;01min\u001b[39;00m all_embeddings]\n",
      "\u001b[31mRuntimeError\u001b[39m: Numpy is not available"
     ]
    }
   ],
   "source": [
    "model = SentenceTransformer('all-MiniLM-L6-v2')\n",
    "\n",
    "# embeddings → matrice (n_lignes, 384)\n",
    "embeddings = model.encode(data['text'].tolist(), show_progress_bar=True)"
   ]
  },
  {
   "cell_type": "code",
   "execution_count": null,
   "id": "53199396-83c7-4fb0-ae0e-f8ad690ffc59",
   "metadata": {},
   "outputs": [],
   "source": [
    "# Sélection des colonnes numériques\n",
    "numeric_data = data[['release_year', 'runtime', 'seasons', 'imdb_score', 'tmdb_score']].values\n",
    "\n",
    "# Concatenation des features numériques + embeddings\n",
    "X = np.hstack([numeric_data, embeddings])"
   ]
  },
  {
   "cell_type": "code",
   "execution_count": null,
   "id": "4a867593-2452-4a90-8635-fc274a2d5ffe",
   "metadata": {},
   "outputs": [],
   "source": [
    "kmeans = KMeans(n_clusters=5, random_state=0)\n",
    "kmeans.fit(X)\n",
    "\n",
    "# Attribuer un cluster à chaque ligne\n",
    "df['cluster'] = kmeans.labels_"
   ]
  },
  {
   "cell_type": "code",
   "execution_count": null,
   "id": "73e76e09-cb18-44b9-9774-27952cfddce8",
   "metadata": {},
   "outputs": [],
   "source": []
  }
 ],
 "metadata": {
  "kernelspec": {
   "display_name": "Python 3 (ipykernel)",
   "language": "python",
   "name": "python3"
  },
  "language_info": {
   "codemirror_mode": {
    "name": "ipython",
    "version": 3
   },
   "file_extension": ".py",
   "mimetype": "text/x-python",
   "name": "python",
   "nbconvert_exporter": "python",
   "pygments_lexer": "ipython3",
   "version": "3.11.1"
  }
 },
 "nbformat": 4,
 "nbformat_minor": 5
}
